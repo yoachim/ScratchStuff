{
 "cells": [
  {
   "cell_type": "markdown",
   "metadata": {},
   "source": [
    "Let's see if we can run the astrometry metrics in a vectorized manner, so we can easily visualize the magnitude variation of things"
   ]
  },
  {
   "cell_type": "code",
   "execution_count": 1,
   "metadata": {
    "collapsed": true
   },
   "outputs": [],
   "source": [
    "import numpy as np\n",
    "import matplotlib.pyplot as plt\n",
    "%matplotlib inline\n",
    "import lsst.sims.maf.slicers as slicers\n",
    "import lsst.sims.maf.metrics as metrics\n",
    "import lsst.sims.maf.metricBundles as metricBundles\n",
    "import lsst.sims.maf.db as db\n",
    "import lsst.sims.maf.plots as plots"
   ]
  },
  {
   "cell_type": "code",
   "execution_count": 2,
   "metadata": {
    "collapsed": false
   },
   "outputs": [],
   "source": [
    "# Let's make a wrapper metric for vectorizing things on magnitude\n",
    "class MagWrapper(metrics.vectorMetrics.VectorMetric):\n",
    "    def __init__(self, metricList=None, bins=None, units=None, metricDtype=float, **kwargs):\n",
    "        super(MagWrapper,self).__init__(metricList[0].colNameArr.tolist(),\n",
    "                                          units=metricList[0].units,\n",
    "                                          metricDtype=metricDtype,\n",
    "                                          **kwargs)\n",
    "        import pdb ; pdb.set_trace()\n",
    "        self.bins = bins\n",
    "        self.shape = np.size(bins)\n",
    "        self.metricList = metricList\n",
    "    def run(self, dataSlice, slicePoint=None):\n",
    "        result = []\n",
    "        for metric in self.metricList:\n",
    "            result.append(metric.run(dataSlice,slicePoint=slicePoint))\n",
    "        return np.array(result)\n",
    "        "
   ]
  },
  {
   "cell_type": "code",
   "execution_count": 3,
   "metadata": {
    "collapsed": true
   },
   "outputs": [],
   "source": [
    "nside = 16\n",
    "\n",
    "opsdb = db.OpsimDatabase('minion_1016_sqlite.db')\n",
    "outDir = 'output'\n",
    "sql='night < 365'\n",
    "resultsDb = db.ResultsDb(outDir=outDir)\n",
    "plotFuncs = [plots.TwoDMap()]"
   ]
  },
  {
   "cell_type": "code",
   "execution_count": null,
   "metadata": {
    "collapsed": false
   },
   "outputs": [
    {
     "name": "stdout",
     "output_type": "stream",
     "text": [
      "> <ipython-input-2-0380e57c08ae>(9)__init__()\n",
      "-> self.bins = bins\n",
      "(Pdb) self.colNameArr\n",
      "array(['night', 'night'], \n",
      "      dtype='|S5')\n",
      "(Pdb) metricList[0].units\n",
      "'mas'\n"
     ]
    }
   ],
   "source": [
    "bundleList = []\n",
    "mags = np.arange(15.,30,1)\n",
    "metricList = [metrics.ParallaxMetric(rmag=mag) for mag in mags]\n",
    "#metric = metrics.ParallaxMetric(rmag=mags)\n",
    "metric = MagWrapper(metricList=metricList, bins=mags)\n",
    "slicer = slicers.HealpixSlicer(nside=nside, latCol='ditheredDec', lonCol='ditheredRA')\n",
    "plotDict = {'xlabel':'Proper Motion Precision'}\n",
    "bundleList.append(metricBundles.MetricBundle(metric,slicer,sql, plotDict=plotDict, plotFuncs=plotFuncs))"
   ]
  },
  {
   "cell_type": "code",
   "execution_count": null,
   "metadata": {
    "collapsed": false
   },
   "outputs": [],
   "source": [
    "bd = metricBundles.makeBundlesDictFromList(bundleList)\n",
    "group = metricBundles.MetricBundleGroup(bd, opsdb, outDir=outDir,\n",
    "                                        resultsDb=resultsDb)\n",
    "group.runAll()\n",
    "group.plotAll(closefigs=False)"
   ]
  },
  {
   "cell_type": "code",
   "execution_count": 7,
   "metadata": {
    "collapsed": false
   },
   "outputs": [
    {
     "data": {
      "text/plain": [
       "array(['night', 'night'], \n",
       "      dtype='|S5')"
      ]
     },
     "execution_count": 7,
     "metadata": {},
     "output_type": "execute_result"
    }
   ],
   "source": [
    "metric.colNameArr"
   ]
  },
  {
   "cell_type": "code",
   "execution_count": null,
   "metadata": {
    "collapsed": true
   },
   "outputs": [],
   "source": []
  }
 ],
 "metadata": {
  "kernelspec": {
   "display_name": "Python 2",
   "language": "python",
   "name": "python2"
  },
  "language_info": {
   "codemirror_mode": {
    "name": "ipython",
    "version": 2
   },
   "file_extension": ".py",
   "mimetype": "text/x-python",
   "name": "python",
   "nbconvert_exporter": "python",
   "pygments_lexer": "ipython2",
   "version": "2.7.11"
  }
 },
 "nbformat": 4,
 "nbformat_minor": 0
}
