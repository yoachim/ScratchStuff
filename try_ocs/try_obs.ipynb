{
 "cells": [
  {
   "cell_type": "code",
   "execution_count": 10,
   "metadata": {
    "collapsed": false
   },
   "outputs": [],
   "source": [
    "from lsst.sims.ocs.observatory import MainObservatory\n",
    "from lsst.sims.ocs.configuration import ObservingSite, Observatory"
   ]
  },
  {
   "cell_type": "code",
   "execution_count": 11,
   "metadata": {
    "collapsed": true
   },
   "outputs": [],
   "source": [
    "site = ObservingSite()"
   ]
  },
  {
   "cell_type": "code",
   "execution_count": 12,
   "metadata": {
    "collapsed": true
   },
   "outputs": [],
   "source": [
    "mo = MainObservatory(site)\n",
    "mo.configure(Observatory())"
   ]
  },
  {
   "cell_type": "code",
   "execution_count": 13,
   "metadata": {
    "collapsed": false
   },
   "outputs": [],
   "source": [
    "mo.start_night(10, 3652)"
   ]
  },
  {
   "cell_type": "code",
   "execution_count": 22,
   "metadata": {
    "collapsed": false
   },
   "outputs": [
    {
     "data": {
      "text/plain": [
       "['__class__',\n",
       " '__delattr__',\n",
       " '__dict__',\n",
       " '__doc__',\n",
       " '__format__',\n",
       " '__getattribute__',\n",
       " '__hash__',\n",
       " '__init__',\n",
       " '__module__',\n",
       " '__new__',\n",
       " '__reduce__',\n",
       " '__reduce_ex__',\n",
       " '__repr__',\n",
       " '__setattr__',\n",
       " '__sizeof__',\n",
       " '__str__',\n",
       " '__subclasshook__',\n",
       " '__weakref__',\n",
       " 'alt',\n",
       " 'alt_rad',\n",
       " 'ang',\n",
       " 'ang_rad',\n",
       " 'az',\n",
       " 'az_rad',\n",
       " 'dec',\n",
       " 'dec_rad',\n",
       " 'domalt',\n",
       " 'domalt_peakspeed',\n",
       " 'domalt_peakspeed_rad',\n",
       " 'domalt_rad',\n",
       " 'domaz',\n",
       " 'domaz_peakspeed',\n",
       " 'domaz_peakspeed_rad',\n",
       " 'domaz_rad',\n",
       " 'filter',\n",
       " 'mountedfilters',\n",
       " 'pa',\n",
       " 'pa_rad',\n",
       " 'ra',\n",
       " 'ra_rad',\n",
       " 'rot',\n",
       " 'rot_rad',\n",
       " 'set',\n",
       " 'set_position',\n",
       " 'swap_filter',\n",
       " 'telalt',\n",
       " 'telalt_peakspeed',\n",
       " 'telalt_peakspeed_rad',\n",
       " 'telalt_rad',\n",
       " 'telaz',\n",
       " 'telaz_peakspeed',\n",
       " 'telaz_peakspeed_rad',\n",
       " 'telaz_rad',\n",
       " 'telrot',\n",
       " 'telrot_peakspeed',\n",
       " 'telrot_peakspeed_rad',\n",
       " 'telrot_rad',\n",
       " 'time',\n",
       " 'tracking',\n",
       " 'unmountedfilters']"
      ]
     },
     "execution_count": 22,
     "metadata": {},
     "output_type": "execute_result"
    }
   ],
   "source": [
    "dir(mo.model.current_state)"
   ]
  },
  {
   "cell_type": "code",
   "execution_count": 31,
   "metadata": {
    "collapsed": false
   },
   "outputs": [
    {
     "data": {
      "text/plain": [
       "False"
      ]
     },
     "execution_count": 31,
     "metadata": {},
     "output_type": "execute_result"
    }
   ],
   "source": [
    "mo.model.current_state.tracking"
   ]
  },
  {
   "cell_type": "code",
   "execution_count": null,
   "metadata": {
    "collapsed": true
   },
   "outputs": [],
   "source": [
    "# Need to make dummy classes for:\n",
    "# SALPY_scheduler.targetC\n",
    "# SALPY_scheduler.observationC\n",
    "# and a TimeHandler object\n",
    "\n",
    "# for the topic:\n",
    "#def from_topic(cls, topic):\n",
    "#        \"\"\"Alternate initializer.\n",
    "#\n",
    "#        Parameters\n",
    "#        ----------\n",
    "#        topic : SALPY_scheduler.targetC\n",
    "#            The target topic instance.\n",
    "#\n",
    "#        Returns\n",
    "#        -------\n",
    "#        :class:`.Target`\n",
    "#        \"\"\"\n",
    "#        return cls(topic.targetId, topic.fieldId, topic.filter, math.radians(topic.ra),\n",
    "#                   math.radians(topic.dec), math.radians(topic.angle), topic.num_exposures,\n",
    "#                   topic.exposure_times)\n",
    "\n"
   ]
  }
 ],
 "metadata": {
  "anaconda-cloud": {},
  "kernelspec": {
   "display_name": "Python [conda root]",
   "language": "python",
   "name": "conda-root-py"
  },
  "language_info": {
   "codemirror_mode": {
    "name": "ipython",
    "version": 2
   },
   "file_extension": ".py",
   "mimetype": "text/x-python",
   "name": "python",
   "nbconvert_exporter": "python",
   "pygments_lexer": "ipython2",
   "version": "2.7.12"
  }
 },
 "nbformat": 4,
 "nbformat_minor": 1
}
