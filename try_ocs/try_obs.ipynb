{
 "cells": [
  {
   "cell_type": "code",
   "execution_count": 1,
   "metadata": {
    "collapsed": false
   },
   "outputs": [],
   "source": [
    "from lsst.sims.ocs.observatory import MainObservatory\n",
    "from lsst.sims.ocs.configuration import ObservingSite, Observatory\n",
    "from lsst.ts.observatory.model import ObservatoryModel\n",
    "import numpy as np"
   ]
  },
  {
   "cell_type": "code",
   "execution_count": 2,
   "metadata": {
    "collapsed": true
   },
   "outputs": [],
   "source": [
    "class target_spoof(object):\n",
    "    \"\"\"Make a dummy class that can pass as a  SALPY_scheduler.targetC\n",
    "    \"\"\"\n",
    "    def __init__(self, targetId=None, fieldId=None, filtername=None, ra=0., dec=0.,\n",
    "                angle=0., num_exposures=2, exposure_times=15.):\n",
    "        self.targetId = targetId\n",
    "        self.fieldId = fieldId\n",
    "        self.filter = filtername\n",
    "        self.ra = ra\n",
    "        self.dec = dec\n",
    "        self.angle = angle\n",
    "        self.num_exposures = num_exposures\n",
    "        self.exposure_times = [exposure_times]*num_exposures"
   ]
  },
  {
   "cell_type": "code",
   "execution_count": 3,
   "metadata": {
    "collapsed": true
   },
   "outputs": [],
   "source": [
    "class observation_spoof(object):\n",
    "    def __init__(self, observationId=None, start_time=None, start_mjd=None, start_lst=None,\n",
    "                 targetId=None, num_proposals=None, proposal_Ids=None, fieldId=None,\n",
    "                groupId=None, filter='r', ra=0., dec=0., angle=0., num_exposures=2):\n",
    "        self.observationId = observationId\n",
    "        self.start_time = start_time\n",
    "        self.start_mjd = start_mjd\n",
    "        self.start_lst = np.degrees(start_lst)\n",
    "        self.targetId = targetId\n",
    "        self.num_proposals = num_proposals\n",
    "        if proposal_Ids is None:\n",
    "            self.proposal_Ids = []\n",
    "        else:\n",
    "            self.proposal_Ids = proposal_Ids\n",
    "        self.fieldId = fieldId\n",
    "        self.groupId = groupId\n",
    "        self.filter = filter\n",
    "        self.ra = ra\n",
    "        self.dec = dec\n",
    "        self.angle = angle\n",
    "        self.num_exposures = num_exposures\n",
    "        "
   ]
  },
  {
   "cell_type": "code",
   "execution_count": 4,
   "metadata": {
    "collapsed": true
   },
   "outputs": [],
   "source": [
    "class time_handler_spoof(object):\n",
    "    def __init__(self, start_time=0):\n",
    "        self.current_timestamp = 0.\n",
    "    def update_time(self, intime):\n",
    "        self.current_timestamp += intime\n"
   ]
  },
  {
   "cell_type": "code",
   "execution_count": 5,
   "metadata": {
    "collapsed": false
   },
   "outputs": [],
   "source": [
    "targ = target_spoof(dec=-15.)"
   ]
  },
  {
   "cell_type": "code",
   "execution_count": 6,
   "metadata": {
    "collapsed": true
   },
   "outputs": [],
   "source": [
    "site = ObservingSite()"
   ]
  },
  {
   "cell_type": "code",
   "execution_count": 22,
   "metadata": {
    "collapsed": true
   },
   "outputs": [],
   "source": [
    "mo = MainObservatory(site)\n",
    "mo.configure(Observatory())"
   ]
  },
  {
   "cell_type": "code",
   "execution_count": 43,
   "metadata": {
    "collapsed": false
   },
   "outputs": [],
   "source": [
    "mo.start_night(10, 3652)\n",
    "# Make sure I can set the rotator angle\n",
    "mo.model.params.rotator_followsky = True"
   ]
  },
  {
   "cell_type": "code",
   "execution_count": 44,
   "metadata": {
    "collapsed": false
   },
   "outputs": [
    {
     "name": "stdout",
     "output_type": "stream",
     "text": [
      "(18.691900924272062, 'seconds')\n",
      "0.0 -30.0 45.0\n"
     ]
    }
   ],
   "source": [
    "target = target_spoof(ra=0., dec=-30., angle=45.)\n",
    "# Slew to my target\n",
    "print mo.slew(target)\n",
    "# Check that the current state is what I wanted\n",
    "print mo.model.current_state.ra, mo.model.current_state.dec, mo.model.current_state.ang"
   ]
  },
  {
   "cell_type": "code",
   "execution_count": 45,
   "metadata": {
    "collapsed": false
   },
   "outputs": [
    {
     "name": "stdout",
     "output_type": "stream",
     "text": [
      "(16.713047678761768, 'seconds')\n",
      "0.0 -20.0 45.0\n"
     ]
    }
   ],
   "source": [
    "# Slew to a new field 20 degrees away\n",
    "target = target_spoof(ra=0., dec=-20., angle=45.)\n",
    "# Slew to my target\n",
    "print mo.slew(target)\n",
    "print mo.model.current_state.ra, mo.model.current_state.dec, mo.model.current_state.ang"
   ]
  },
  {
   "cell_type": "code",
   "execution_count": 46,
   "metadata": {
    "collapsed": false
   },
   "outputs": [
    {
     "name": "stdout",
     "output_type": "stream",
     "text": [
      "(2.0, 'seconds')\n",
      "0.0 -20.0 45.0\n"
     ]
    }
   ],
   "source": [
    "# Let's try slewing to the same spot\n",
    "print mo.slew(target)\n",
    "print mo.model.current_state.ra, mo.model.current_state.dec, mo.model.current_state.ang"
   ]
  },
  {
   "cell_type": "code",
   "execution_count": 47,
   "metadata": {
    "collapsed": false
   },
   "outputs": [
    {
     "data": {
      "text/plain": [
       "True"
      ]
     },
     "execution_count": 47,
     "metadata": {},
     "output_type": "execute_result"
    }
   ],
   "source": [
    "mo.model.params.rotator_followsky"
   ]
  },
  {
   "cell_type": "code",
   "execution_count": 48,
   "metadata": {
    "collapsed": false
   },
   "outputs": [
    {
     "name": "stdout",
     "output_type": "stream",
     "text": [
      "(16.35714285714286, 'seconds')\n",
      "0.0 -20.0 90.0\n"
     ]
    }
   ],
   "source": [
    "# Can I give a slew command and just change the angle?\n",
    "target = target_spoof(ra=0., dec=-20., angle=90.)\n",
    "print mo.slew(target)\n",
    "print mo.model.current_state.ra, mo.model.current_state.dec, mo.model.current_state.ang"
   ]
  },
  {
   "cell_type": "code",
   "execution_count": null,
   "metadata": {
    "collapsed": false
   },
   "outputs": [],
   "source": []
  },
  {
   "cell_type": "code",
   "execution_count": null,
   "metadata": {
    "collapsed": false
   },
   "outputs": [],
   "source": []
  },
  {
   "cell_type": "code",
   "execution_count": 49,
   "metadata": {
    "collapsed": false
   },
   "outputs": [
    {
     "data": {
      "text/plain": [
       "True"
      ]
     },
     "execution_count": 49,
     "metadata": {},
     "output_type": "execute_result"
    }
   ],
   "source": [
    "mo.model.current_state.tracking"
   ]
  },
  {
   "cell_type": "code",
   "execution_count": 16,
   "metadata": {
    "collapsed": false
   },
   "outputs": [
    {
     "name": "stdout",
     "output_type": "stream",
     "text": [
      "3.14159265359\n",
      "(56.542464411068295, 'seconds')\n",
      "2.41434415292\n",
      "(2.0, 'seconds')\n",
      "2.41434415292\n"
     ]
    }
   ],
   "source": [
    "mo.model.park()\n",
    "print mo.model.current_state.ang_rad\n",
    "print mo.slew(target)\n",
    "print mo.model.current_state.ang_rad\n",
    "print mo.slew(target)\n",
    "print mo.model.current_state.ang_rad"
   ]
  },
  {
   "cell_type": "code",
   "execution_count": 17,
   "metadata": {
    "collapsed": false
   },
   "outputs": [
    {
     "data": {
      "text/plain": [
       "6.279649335666874"
      ]
     },
     "execution_count": 17,
     "metadata": {},
     "output_type": "execute_result"
    }
   ],
   "source": [
    "mo.model.current_state.rot_rad"
   ]
  },
  {
   "cell_type": "code",
   "execution_count": 18,
   "metadata": {
    "collapsed": false
   },
   "outputs": [],
   "source": [
    "model = ObservatoryModel(site)"
   ]
  },
  {
   "cell_type": "code",
   "execution_count": 19,
   "metadata": {
    "collapsed": false
   },
   "outputs": [
    {
     "data": {
      "text/plain": [
       "-0.2025962441569066"
      ]
     },
     "execution_count": 19,
     "metadata": {},
     "output_type": "execute_result"
    }
   ],
   "source": [
    "mo.model.current_state.telrot"
   ]
  },
  {
   "cell_type": "code",
   "execution_count": null,
   "metadata": {
    "collapsed": false
   },
   "outputs": [],
   "source": []
  },
  {
   "cell_type": "code",
   "execution_count": 50,
   "metadata": {
    "collapsed": false
   },
   "outputs": [
    {
     "data": {
      "text/plain": [
       "2.0"
      ]
     },
     "execution_count": 50,
     "metadata": {},
     "output_type": "execute_result"
    }
   ],
   "source": [
    "mo.model.params.readouttime"
   ]
  },
  {
   "cell_type": "code",
   "execution_count": 51,
   "metadata": {
    "collapsed": false
   },
   "outputs": [
    {
     "name": "stdout",
     "output_type": "stream",
     "text": [
      "(3.190262418684142e-07, 'seconds')\n",
      "0.0 -20.0 90.0\n",
      "(1.7052673229045467e-07, 'seconds')\n"
     ]
    }
   ],
   "source": [
    "mo.model.params.readouttime=0.\n",
    "target = target_spoof(ra=0., dec=-20., angle=90.)\n",
    "print mo.slew(target)\n",
    "print mo.model.current_state.ra, mo.model.current_state.dec, mo.model.current_state.ang\n",
    "print mo.slew(target)"
   ]
  },
  {
   "cell_type": "code",
   "execution_count": null,
   "metadata": {
    "collapsed": true
   },
   "outputs": [],
   "source": []
  }
 ],
 "metadata": {
  "anaconda-cloud": {},
  "kernelspec": {
   "display_name": "Python [conda root]",
   "language": "python",
   "name": "conda-root-py"
  },
  "language_info": {
   "codemirror_mode": {
    "name": "ipython",
    "version": 2
   },
   "file_extension": ".py",
   "mimetype": "text/x-python",
   "name": "python",
   "nbconvert_exporter": "python",
   "pygments_lexer": "ipython2",
   "version": "2.7.12"
  }
 },
 "nbformat": 4,
 "nbformat_minor": 1
}
