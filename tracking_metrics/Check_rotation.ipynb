{
 "cells": [
  {
   "cell_type": "code",
   "execution_count": 1,
   "metadata": {
    "collapsed": false
   },
   "outputs": [
    {
     "name": "stderr",
     "output_type": "stream",
     "text": [
      "/Users/yoachim/lsst/DarwinX86/miniconda2/3.19.0.lsst4/lib/python2.7/site-packages/matplotlib/font_manager.py:273: UserWarning: Matplotlib is building the font cache using fc-list. This may take a moment.\n",
      "  warnings.warn('Matplotlib is building the font cache using fc-list. This may take a moment.')\n"
     ]
    }
   ],
   "source": [
    "%matplotlib inline\n",
    "import numpy as np\n",
    "import healpy as hp\n",
    "import matplotlib.pylab as plt\n",
    "from hp_align import rotate_ra_dec\n",
    "from surveyStatus import *\n",
    "from utils import wrapRADec"
   ]
  },
  {
   "cell_type": "code",
   "execution_count": 2,
   "metadata": {
    "collapsed": false
   },
   "outputs": [],
   "source": [
    "field_data = np.loadtxt('fieldID.dat', delimiter='|', skiprows=1,\n",
    "                        dtype=list(zip(['id', 'ra', 'dec'], [int, float, float])))\n",
    "\n",
    "ra_range = 15.  # Degrees\n",
    "dec_range = 25.\n",
    "good = np.where(((field_data['ra'] <= ra_range) | (field_data['ra'] >= 360.-ra_range)) &\n",
    "                ((field_data['dec'] >= -dec_range) & (field_data['dec'] <= dec_range)))\n",
    "\n",
    "field_data = field_data[good]"
   ]
  },
  {
   "cell_type": "code",
   "execution_count": 3,
   "metadata": {
    "collapsed": false
   },
   "outputs": [],
   "source": [
    "new_ra, new_dec = rotate_ra_dec(np.radians(field_data['ra']), np.radians(field_data['dec']),\n",
    "                                np.radians(45.), np.radians(-45.), init_rotate=np.radians(0))\n"
   ]
  },
  {
   "cell_type": "code",
   "execution_count": 4,
   "metadata": {
    "collapsed": false
   },
   "outputs": [],
   "source": [
    "nside=128\n",
    "hpl = HealpixLookup(nside=nside)\n",
    "ssl=[]\n",
    "ssl.append(countFilterStatus(filter_name=['r'], nside=nside))"
   ]
  },
  {
   "cell_type": "code",
   "execution_count": 5,
   "metadata": {
    "collapsed": false
   },
   "outputs": [],
   "source": [
    "class obs(object):\n",
    "    def __init__(self):\n",
    "        self.filter = 'r'\n",
    "        self.ra = 0.\n",
    "        self.dec = 0"
   ]
  },
  {
   "cell_type": "code",
   "execution_count": 6,
   "metadata": {
    "collapsed": false
   },
   "outputs": [],
   "source": [
    "#for i in [34]:\n",
    "#    print i\n",
    "#    ack = hpl.lookup(new_ra[i], new_dec[i])\n",
    "#new_ra[34], new_dec[34]\n",
    "x,y,z = hpl._treexyz(new_ra[34], new_dec[34])\n",
    "indices = hpl.hptree.query_ball_point((x, y, z), hpl.rad)\n"
   ]
  },
  {
   "cell_type": "code",
   "execution_count": 7,
   "metadata": {
    "collapsed": false
   },
   "outputs": [],
   "source": [
    "observation = obs()\n",
    "for ra,dec in zip(new_ra, new_dec):\n",
    "    observation.filter = 'r'\n",
    "    observation.ra = ra\n",
    "    observation.dec = dec\n",
    "    pix = hpl.lookup(ra, dec)\n",
    "    ssl[0].add_visit(observation, pix)"
   ]
  },
  {
   "cell_type": "code",
   "execution_count": 8,
   "metadata": {
    "collapsed": false
   },
   "outputs": [
    {
     "data": {
      "image/png": "[encoded data removed]",
      "text/plain": [
       "<matplotlib.figure.Figure at 0x109541dd0>"
      ]
     },
     "metadata": {},
     "output_type": "display_data"
    }
   ],
   "source": [
    "hp.mollview(ssl[0].survey_map)"
   ]
  },
  {
   "cell_type": "code",
   "execution_count": 9,
   "metadata": {
    "collapsed": false
   },
   "outputs": [
    {
     "data": {
      "text/plain": [
       "array([ 0.37728321,  0.37703538,  0.37703538,  0.3762742 ,  0.37627419,\n",
       "        0.37495847,  0.37495846,  0.37301983,  0.37301985,  0.42519983,\n",
       "        0.42519982,  0.42465665,  0.42465666,  0.42351886,  0.42351884,\n",
       "        0.42169155,  0.42169156,  0.41903725,  0.41903725,  0.47280221,\n",
       "        0.47249223,  0.47249224,  0.47152322,  0.47152321,  0.46978826,\n",
       "        0.46978825,  0.46711917,  0.46711918,  0.51969742,  0.51969742,\n",
       "        0.51893992,  0.51893993,  0.51733239,  0.51733241,  0.51469886,\n",
       "        0.51469885,  0.51080258,  0.5108026 ,  0.5661498 ,  0.56570351,\n",
       "        0.5657035 ,  0.56430689,  0.5643069 ,  0.56180298,  0.56180299,\n",
       "        0.55795777,  0.55795775,  0.61171522,  0.61171522,  0.61065184,\n",
       "        0.61065184,  0.60840339,  0.6084034 ,  0.60475515,  0.60475513,\n",
       "        0.59944132,  0.59944127,  0.65687459,  0.65628256,  0.65628255,\n",
       "        0.65443043,  0.65443045,  0.65113241,  0.65113241,  0.64613636,\n",
       "        0.64613639,  0.70111677,  0.70111677,  0.69979577,  0.69979576,\n",
       "        0.69700116,  0.69700113,  0.69248886,  0.69248888,  0.68598487,\n",
       "        0.6859849 ,  0.74511528,  0.74442678,  0.74442678,  0.74226696,\n",
       "        0.74226697,  0.73839427,  0.73839424,  0.73252322,  0.73252326,\n",
       "        0.78828643,  0.78828643,  0.786844  ,  0.78684399,  0.78374339,\n",
       "        0.78374341,  0.77866491,  0.77866488,  0.77130208,  0.7713021 ,\n",
       "        0.83138836,  0.83069177,  0.83069176,  0.82844716,  0.82844715,\n",
       "        0.82429932,  0.82429936,  0.81787747,  0.81787748,  0.87380956,\n",
       "        0.87380956,  0.87243699,  0.87243697,  0.86932379,  0.8693238 ,\n",
       "        0.86399894,  0.86399897,  0.8560007 ,  0.85600071,  0.91626639,\n",
       "        0.91568595,  0.91568596,  0.91365252,  0.91365253,  0.90956527,\n",
       "        0.90956527,  0.90278015,  0.90278018,  0.95822397,  0.95822397,\n",
       "        0.95721549,  0.9572155 ,  0.95447963,  0.95447966,  0.94909646,\n",
       "        0.94909649,  0.93978532,  0.93978528,  1.0001962 ,  0.99997601,\n",
       "        0.99997599,  0.99864794,  0.99864796,  0.99487814,  0.99487816,\n",
       "        0.98678684,  0.98678683,  1.04197475,  1.04197475,  1.04196697,\n",
       "        1.04196696,  1.04005166,  1.04005168,  1.03337749,  1.03337748,\n",
       "        1.02355285,  1.02355287,  1.08351005,  1.0843247 ,  1.08432468,\n",
       "        1.08453892,  1.08453892,  1.07951734,  1.07951736,  1.07134014,\n",
       "        1.07134007,  1.12566281,  1.12566281,  1.12825326,  1.12825324,\n",
       "        1.12516499,  1.12516504,  1.11910147,  1.11910152,  1.10931304,\n",
       "        1.10931308,  1.16654239,  1.17116716,  1.17116714,  1.17030427,\n",
       "        1.17030429,  1.1670932 ,  1.16709318,  1.15953844,  1.15953841,\n",
       "        1.21387188,  1.21387188])"
      ]
     },
     "execution_count": 9,
     "metadata": {},
     "output_type": "execute_result"
    }
   ],
   "source": [
    "new_dec"
   ]
  },
  {
   "cell_type": "code",
   "execution_count": 10,
   "metadata": {
    "collapsed": false
   },
   "outputs": [],
   "source": [
    "# let's check what the rough area per pointing is\n",
    "npix = np.size(np.where(ssl[0].survey_map > 0)[0])"
   ]
  },
  {
   "cell_type": "code",
   "execution_count": 11,
   "metadata": {
    "collapsed": false
   },
   "outputs": [
    {
     "data": {
      "text/plain": [
       "6915"
      ]
     },
     "execution_count": 11,
     "metadata": {},
     "output_type": "execute_result"
    }
   ],
   "source": [
    "npix"
   ]
  },
  {
   "cell_type": "code",
   "execution_count": 12,
   "metadata": {
    "collapsed": false
   },
   "outputs": [
    {
     "name": "stdout",
     "output_type": "stream",
     "text": [
      "approximate area covered per pointing = 7.972137 sq degrees\n"
     ]
    }
   ],
   "source": [
    "area = hp.nside2pixarea(nside, degrees=True)\n",
    "area_per_pointing = area*npix/new_dec.size\n",
    "print 'approximate area covered per pointing = %f sq degrees' % area_per_pointing"
   ]
  },
  {
   "cell_type": "code",
   "execution_count": 13,
   "metadata": {
    "collapsed": false
   },
   "outputs": [],
   "source": [
    "ack= rotate_ra_dec(np.radians(field_data['ra']), np.radians(field_data['dec']),\n",
    "                                np.radians(45.), np.radians(500.))"
   ]
  },
  {
   "cell_type": "code",
   "execution_count": null,
   "metadata": {
    "collapsed": true
   },
   "outputs": [],
   "source": []
  }
 ],
 "metadata": {
  "anaconda-cloud": {},
  "kernelspec": {
   "display_name": "Python [conda root]",
   "language": "python",
   "name": "conda-root-py"
  },
  "language_info": {
   "codemirror_mode": {
    "name": "ipython",
    "version": 2
   },
   "file_extension": ".py",
   "mimetype": "text/x-python",
   "name": "python",
   "nbconvert_exporter": "python",
   "pygments_lexer": "ipython2",
   "version": "2.7.12"
  }
 },
 "nbformat": 4,
 "nbformat_minor": 1
}
