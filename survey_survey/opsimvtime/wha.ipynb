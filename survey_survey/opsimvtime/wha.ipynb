{
 "cells": [
  {
   "cell_type": "code",
   "execution_count": 1,
   "metadata": {
    "collapsed": false
   },
   "outputs": [
    {
     "name": "stderr",
     "output_type": "stream",
     "text": [
      "/Users/yoachim/lsst/DarwinX86/miniconda2/3.19.0.lsst4/lib/python2.7/site-packages/matplotlib/font_manager.py:273: UserWarning: Matplotlib is building the font cache using fc-list. This may take a moment.\n",
      "  warnings.warn('Matplotlib is building the font cache using fc-list. This may take a moment.')\n"
     ]
    }
   ],
   "source": [
    "%matplotlib inline\n",
    "import numpy as np\n",
    "import matplotlib.pylab as plt\n",
    "import lsst.sims.maf.db as db\n",
    "import lsst.sims.maf.metrics as metrics\n",
    "import lsst.sims.maf.slicers as slicers\n",
    "import lsst.sims.maf.stackers as stackers\n",
    "import lsst.sims.maf.plots as plots\n",
    "import lsst.sims.maf.metricBundles as metricBundles\n",
    "import lsst.sims.maf.utils as utils"
   ]
  },
  {
   "cell_type": "code",
   "execution_count": 2,
   "metadata": {
    "collapsed": false
   },
   "outputs": [],
   "source": [
    "class BruteOSFMetric(metrics.BaseMetric):\n",
    "    \"\"\"Assume I can't trust the slewtime or visittime colums\"\"\"\n",
    "    def __init__(self, metricName='BruteOSFMetric',\n",
    "            expTimeCol='expTime', mjdCol='expMJD', maxgap=10., fudge=0, **kwargs):\n",
    "        self.expTimeCol = expTimeCol\n",
    "        self.maxgap = maxgap/60./24. # convert from min to days\n",
    "        self.mjdCol = mjdCol\n",
    "        self.fudge = fudge\n",
    "        super(BruteOSFMetric, self).__init__(col=[self.expTimeCol, mjdCol],\n",
    "                                                        metricName=metricName, units='OpenShutter/TotalTime',\n",
    "                                                        **kwargs)\n",
    "                                                                                                        \n",
    "    def run(self, dataSlice, slicePoint=None):\n",
    "        times = np.sort(dataSlice[self.mjdCol])\n",
    "        diff = np.diff(times)\n",
    "        good = np.where(diff < self.maxgap)\n",
    "        openTime = np.sum(diff[good])*24.*3600.\n",
    "        result = np.sum(dataSlice[self.expTimeCol]+self.fudge) / float(openTime)\n",
    "        return result\n"
   ]
  },
  {
   "cell_type": "code",
   "execution_count": 3,
   "metadata": {
    "collapsed": false
   },
   "outputs": [],
   "source": [
    "conns = []\n",
    "colmap_dicts = []\n",
    "conns.append(db.SimpleDatabase('opsim3_61_sqlite.db', defaultTable='Summary', groupBy='expMJD',\n",
    "                               defaultdbTables={'Summary': ['Summary', 'obsHistID']}))\n",
    "colmap_dicts.append({'slewtime': 'slewTime', 'exptime': 'expTime', 'visittime': 'expTime', 'mjd':'expMJD'})\n",
    "\n",
    "\n",
    "\n",
    "conns.append(db.SimpleDatabase('opsimblitz2_1060_sqlite.db', defaultTable='Summary', groupBy='expMJD',\n",
    "                               defaultdbTables={'Summary': ['Summary', 'obsHistID']}))\n",
    "colmap_dicts.append({'slewtime': 'slewTime', 'exptime': 'visitExpTime', 'visittime': 'visitTime', 'mjd':'expMJD'})\n",
    "\n",
    "\n",
    "conns.append(db.SimpleDatabase('enigma_1189_sqlite.db', defaultTable='Summary', groupBy='expMJD',\n",
    "                               defaultdbTables={'Summary': ['Summary', 'obsHistID']}))\n",
    "colmap_dicts.append({'slewtime': 'slewTime', 'exptime': 'visitExpTime', 'visittime': 'visitTime', 'mjd':'expMJD'})\n",
    "\n",
    "\n",
    "conns.append(db.SimpleDatabase('minion_1016_sqlite.db', defaultTable='Summary', groupBy='expMJD',\n",
    "                               defaultdbTables={'Summary': ['Summary', 'obsHistID']}))\n",
    "colmap_dicts.append({'slewtime': 'slewTime', 'exptime': 'visitExpTime', 'visittime': 'visitTime', 'mjd':'expMJD'})\n",
    "\n"
   ]
  },
  {
   "cell_type": "code",
   "execution_count": 4,
   "metadata": {
    "collapsed": false
   },
   "outputs": [
    {
     "name": "stdout",
     "output_type": "stream",
     "text": [
      "Querying database Summary with no constraint for columns ['slewTime', 'airmass', 'fieldDec', 'expTime', 'expMJD'].\n",
      "Found 2651588 visits\n",
      "Running:  ['opsim_BruteOSFMetric_UNIS', 'opsim_Median_slewTime_UNIS', 'opsim_Median_normairmass_UNIS']\n",
      "Completed metric generation.\n",
      "Running reduce methods.\n",
      "Running summary statistics.\n",
      "Completed.\n",
      "Querying database Summary with no constraint for columns ['slewTime', 'airmass', 'fieldDec', 'visitExpTime', 'expMJD'].\n",
      "Found 2551637 visits\n",
      "Running:  ['opsim_BruteOSFMetric_UNIS', 'opsim_Median_slewTime_UNIS', 'opsim_Median_normairmass_UNIS']\n",
      "Completed metric generation.\n",
      "Running reduce methods.\n",
      "Running summary statistics.\n",
      "Completed.\n",
      "Querying database Summary with no constraint for columns ['slewTime', 'airmass', 'fieldDec', 'visitExpTime', 'expMJD'].\n",
      "Found 2469307 visits\n",
      "Running:  ['opsim_BruteOSFMetric_UNIS', 'opsim_Median_slewTime_UNIS', 'opsim_Median_normairmass_UNIS']\n",
      "Completed metric generation.\n",
      "Running reduce methods.\n",
      "Running summary statistics.\n",
      "Completed.\n",
      "Querying database Summary with no constraint for columns ['slewTime', 'airmass', 'fieldDec', 'visitExpTime', 'expMJD'].\n",
      "Found 2447931 visits\n",
      "Running:  ['opsim_BruteOSFMetric_UNIS', 'opsim_Median_slewTime_UNIS', 'opsim_Median_normairmass_UNIS']\n",
      "Completed metric generation.\n",
      "Running reduce methods.\n",
      "Running summary statistics.\n",
      "Completed.\n"
     ]
    }
   ],
   "source": [
    "results = []\n",
    "i=0\n",
    "for conn,colmap_dict in zip(conns, colmap_dicts):\n",
    "    bundleList = []\n",
    "    sql = ''\n",
    "    slicer = slicers.UniSlicer()\n",
    "    if i == 0:\n",
    "        fudge = -4.\n",
    "    else:\n",
    "        fudge = 0.\n",
    "    i += 1\n",
    "    metric = BruteOSFMetric(expTimeCol=colmap_dict['exptime'],\n",
    "                                   mjdCol=colmap_dict['mjd'], fudge=fudge)\n",
    "    bundle = metricBundles.MetricBundle(metric, slicer, sql)\n",
    "    bundleList.append(bundle)\n",
    "    metric = metrics.MedianMetric(col='normairmass')\n",
    "    bundle = metricBundles.MetricBundle(metric, slicer, sql)\n",
    "    bundleList.append(bundle)\n",
    "    \n",
    "    metric = metrics.MedianMetric(col=colmap_dict['slewtime'])\n",
    "    bundle = metricBundles.MetricBundle(metric, slicer, sql)\n",
    "    bundleList.append(bundle)\n",
    "    \n",
    "    bd = metricBundles.makeBundlesDictFromList(bundleList)\n",
    "    group = metricBundles.MetricBundleGroup(bd, conn)\n",
    "    group.runAll()\n",
    "    results.append(bundleList)"
   ]
  },
  {
   "cell_type": "code",
   "execution_count": 5,
   "metadata": {
    "collapsed": false
   },
   "outputs": [],
   "source": [
    "osf = [bl[0].metricValues for bl in results]\n",
    "normAir = [bl[1].metricValues for bl in results]"
   ]
  },
  {
   "cell_type": "code",
   "execution_count": null,
   "metadata": {
    "collapsed": false
   },
   "outputs": [],
   "source": []
  },
  {
   "cell_type": "code",
   "execution_count": 6,
   "metadata": {
    "collapsed": false
   },
   "outputs": [
    {
     "data": {
      "text/plain": [
       "[masked_array(data = [1.0958415071696619],\n",
       "              mask = [False],\n",
       "        fill_value = -666.0), masked_array(data = [1.1234914484593699],\n",
       "              mask = [False],\n",
       "        fill_value = -666.0), masked_array(data = [1.0775495831422173],\n",
       "              mask = [False],\n",
       "        fill_value = -666.0), masked_array(data = [1.073198000531009],\n",
       "              mask = [False],\n",
       "        fill_value = -666.0)]"
      ]
     },
     "execution_count": 6,
     "metadata": {},
     "output_type": "execute_result"
    }
   ],
   "source": [
    "normAir"
   ]
  },
  {
   "cell_type": "code",
   "execution_count": 7,
   "metadata": {
    "collapsed": false
   },
   "outputs": [
    {
     "data": {
      "text/plain": [
       "[masked_array(data = [0.7431762502397868],\n",
       "              mask = [False],\n",
       "        fill_value = -666.0), masked_array(data = [0.7555777866507578],\n",
       "              mask = [False],\n",
       "        fill_value = -666.0), masked_array(data = [0.7333276606428204],\n",
       "              mask = [False],\n",
       "        fill_value = -666.0), masked_array(data = [0.735662801166647],\n",
       "              mask = [False],\n",
       "        fill_value = -666.0)]"
      ]
     },
     "execution_count": 7,
     "metadata": {},
     "output_type": "execute_result"
    }
   ],
   "source": [
    "osf"
   ]
  },
  {
   "cell_type": "code",
   "execution_count": 8,
   "metadata": {
    "collapsed": false
   },
   "outputs": [],
   "source": [
    "conns = []\n",
    "colmap_dicts = []\n",
    "conns.append(db.SimpleDatabase('marching_d30.db', defaultTable='SummaryAllProps',\n",
    "                               defaultdbTables={'SummaryAllProps': ['SummaryAllProps', 'observationId']}))\n",
    "colmap_dicts.append({'slewtime': 'slewtime', 'exptime': 'exptime', 'visittime': 'exptime', 'mjd':'mjd'})\n",
    "\n"
   ]
  },
  {
   "cell_type": "code",
   "execution_count": 9,
   "metadata": {
    "collapsed": false
   },
   "outputs": [
    {
     "name": "stdout",
     "output_type": "stream",
     "text": [
      "Querying database SummaryAllProps with no constraint for columns ['mjd', 'airmass', 'dec', 'exptime', 'slewtime'].\n",
      "Found 21287 visits\n",
      "Running:  ['opsim_BruteOSFMetric_UNIS', 'opsim_Median_slewtime_UNIS', 'opsim_Median_normairmass_UNIS']\n",
      "Completed metric generation.\n",
      "Running reduce methods.\n",
      "Running summary statistics.\n",
      "Completed.\n"
     ]
    }
   ],
   "source": [
    "results = []\n",
    "i=0\n",
    "for conn,colmap_dict in zip(conns, colmap_dicts):\n",
    "    bundleList = []\n",
    "    sql = ''\n",
    "    slicer = slicers.UniSlicer()\n",
    "    metric = BruteOSFMetric(expTimeCol=colmap_dict['exptime'],\n",
    "                                   mjdCol=colmap_dict['mjd'])\n",
    "    bundle = metricBundles.MetricBundle(metric, slicer, sql)\n",
    "    bundleList.append(bundle)\n",
    "    \n",
    "    stacker = stackers.NormAirmassStacker(decCol='dec')\n",
    "    metric = metrics.MedianMetric(col='normairmass')\n",
    "    bundle = metricBundles.MetricBundle(metric, slicer, sql, stackerList=[stacker])\n",
    "    bundleList.append(bundle)\n",
    "    \n",
    "    metric = metrics.MedianMetric(col=colmap_dict['slewtime'])\n",
    "    bundle = metricBundles.MetricBundle(metric, slicer, sql)\n",
    "    bundleList.append(bundle)\n",
    "    \n",
    "    bd = metricBundles.makeBundlesDictFromList(bundleList)\n",
    "    group = metricBundles.MetricBundleGroup(bd, conn)\n",
    "    group.runAll()\n",
    "    results.append(bundleList)"
   ]
  },
  {
   "cell_type": "code",
   "execution_count": 10,
   "metadata": {
    "collapsed": true
   },
   "outputs": [],
   "source": [
    "feature_osf = bundleList[0].metricValues\n",
    "feature_nair = bundleList[1].metricValues"
   ]
  },
  {
   "cell_type": "code",
   "execution_count": 11,
   "metadata": {
    "collapsed": false
   },
   "outputs": [
    {
     "name": "stdout",
     "output_type": "stream",
     "text": [
      "[0.7792537530840773] [1.0135975250524485]\n"
     ]
    }
   ],
   "source": [
    "print feature_osf, feature_nair"
   ]
  },
  {
   "cell_type": "code",
   "execution_count": 12,
   "metadata": {
    "collapsed": false
   },
   "outputs": [
    {
     "data": {
      "text/plain": [
       "<matplotlib.legend.Legend at 0x131229790>"
      ]
     },
     "execution_count": 12,
     "metadata": {},
     "output_type": "execute_result"
    },
    {
     "data": {
      "image/png": "[encoded data removed]",
      "text/plain": [
       "<matplotlib.figure.Figure at 0x12dee68d0>"
      ]
     },
     "metadata": {},
     "output_type": "display_data"
    }
   ],
   "source": [
    "max_osf = 30./(34)\n",
    "plt.plot(normAir, osf, 'ko', label='opsim, 2013-2017')\n",
    "plt.xlim([1.15, .95])\n",
    "plt.ylim([.7, .9])\n",
    "plt.plot(1, max_osf, 'r*', label='meridian, no slew')\n",
    "plt.xlabel('Median Normalized Airmass')\n",
    "plt.ylabel('Open Shutter Fraction')\n",
    "plt.axhline(y=30./(32.+4.5), linestyle='--', color='k')\n",
    "plt.axvline(x=1., linestyle='--', color='k')\n",
    "\n",
    "plt.plot(feature_nair, feature_osf, 'b*', markersize=10, label='Feature Sched')\n",
    "\n",
    "plt.plot([1.03], [0.73], 'g*', markersize=10, label='alt-sched')\n",
    "\n",
    "plt.legend(scatterpoints=1, numpoints=1, loc='upper left')"
   ]
  },
  {
   "cell_type": "code",
   "execution_count": 13,
   "metadata": {
    "collapsed": false
   },
   "outputs": [
    {
     "data": {
      "text/plain": [
       "masked_array(data = [0.7792537530840773],\n",
       "             mask = [False],\n",
       "       fill_value = -666.0)"
      ]
     },
     "execution_count": 13,
     "metadata": {},
     "output_type": "execute_result"
    }
   ],
   "source": [
    "\n",
    "feature_osf"
   ]
  },
  {
   "cell_type": "code",
   "execution_count": 14,
   "metadata": {
    "collapsed": false
   },
   "outputs": [
    {
     "data": {
      "text/plain": [
       "masked_array(data = [1.0135975250524485],\n",
       "             mask = [False],\n",
       "       fill_value = -666.0)"
      ]
     },
     "execution_count": 14,
     "metadata": {},
     "output_type": "execute_result"
    }
   ],
   "source": [
    "feature_nair\n"
   ]
  },
  {
   "cell_type": "code",
   "execution_count": 15,
   "metadata": {
    "collapsed": true
   },
   "outputs": [],
   "source": [
    "conn = db.SimpleDatabase('marching_d30.db', defaultTable='SummaryAllProps',\n",
    "                               defaultdbTables={'SummaryAllProps': ['SummaryAllProps', 'observationId']})"
   ]
  },
  {
   "cell_type": "code",
   "execution_count": 16,
   "metadata": {
    "collapsed": false
   },
   "outputs": [
    {
     "name": "stdout",
     "output_type": "stream",
     "text": [
      "Querying database SummaryAllProps with no constraint for columns ['airmass', 'dec'].\n",
      "Found 21287 visits\n",
      "Running:  ['opsim_Count_normairmass_ONED']\n",
      "Completed metric generation.\n",
      "Running:  ['opsim_Median_normairmass_UNIS']\n",
      "Completed metric generation.\n",
      "Running reduce methods.\n",
      "Running summary statistics.\n",
      "Completed.\n",
      "Plotting figures with \"\" constraint now.\n"
     ]
    },
    {
     "name": "stderr",
     "output_type": "stream",
     "text": [
      "/Users/yoachim/gitRepos/sims_maf/python/lsst/sims/maf/utils/mafUtils.py:60: UserWarning: Optimal bin calculation tried to make 201 bins, returning 200\n",
      "  warnings.warn('Optimal bin calculation tried to make %.0f bins, returning %i'%(nbins, nbinMax))\n",
      "/Users/yoachim/gitRepos/sims_maf/python/lsst/sims/maf/stackers/baseStacker.py:115: UserWarning: Warning - column normairmass already present in simData, will be overwritten.\n",
      "  % (col))\n"
     ]
    },
    {
     "name": "stdout",
     "output_type": "stream",
     "text": [
      "Plotting complete.\n"
     ]
    },
    {
     "data": {
      "image/png": "[encoded data removed]",
      "text/plain": [
       "<matplotlib.figure.Figure at 0x12de83f10>"
      ]
     },
     "metadata": {},
     "output_type": "display_data"
    }
   ],
   "source": [
    "bundleList = []\n",
    "sql = ''\n",
    "slicer = slicers.OneDSlicer(sliceColName='normairmass')\n",
    "stacker = stackers.NormAirmassStacker(decCol='dec')\n",
    "metric = metrics.CountMetric(col='normairmass')\n",
    "bundle = metricBundles.MetricBundle(metric, slicer, sql, stackerList=[stacker])\n",
    "bundleList.append(bundle)\n",
    "\n",
    "metric = metrics.MedianMetric(col='normairmass')\n",
    "slicer=slicers.UniSlicer()\n",
    "bundle = metricBundles.MetricBundle(metric, slicer, sql, stackerList=[stacker])\n",
    "bundleList.append(bundle)\n",
    "\n",
    "\n",
    "bd = metricBundles.makeBundlesDictFromList(bundleList)\n",
    "group = metricBundles.MetricBundleGroup(bd, conn)\n",
    "group.runAll()\n",
    "group.plotAll(closefigs=False)"
   ]
  },
  {
   "cell_type": "code",
   "execution_count": 17,
   "metadata": {
    "collapsed": false
   },
   "outputs": [
    {
     "name": "stdout",
     "output_type": "stream",
     "text": [
      "[1.0135975250524485]\n"
     ]
    }
   ],
   "source": [
    "print bundleList[1].metricValues"
   ]
  },
  {
   "cell_type": "code",
   "execution_count": null,
   "metadata": {
    "collapsed": true
   },
   "outputs": [],
   "source": []
  }
 ],
 "metadata": {
  "anaconda-cloud": {},
  "kernelspec": {
   "display_name": "Python [conda root]",
   "language": "python",
   "name": "conda-root-py"
  },
  "language_info": {
   "codemirror_mode": {
    "name": "ipython",
    "version": 2
   },
   "file_extension": ".py",
   "mimetype": "text/x-python",
   "name": "python",
   "nbconvert_exporter": "python",
   "pygments_lexer": "ipython2",
   "version": "2.7.12"
  }
 },
 "nbformat": 4,
 "nbformat_minor": 1
}
