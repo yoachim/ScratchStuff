{
 "cells": [
  {
   "cell_type": "code",
   "execution_count": 1,
   "metadata": {
    "collapsed": false
   },
   "outputs": [
    {
     "name": "stderr",
     "output_type": "stream",
     "text": [
      "/Users/yoachim/lsst/DarwinX86/miniconda2/3.19.0.lsst4/lib/python2.7/site-packages/matplotlib/font_manager.py:273: UserWarning: Matplotlib is building the font cache using fc-list. This may take a moment.\n",
      "  warnings.warn('Matplotlib is building the font cache using fc-list. This may take a moment.')\n"
     ]
    }
   ],
   "source": [
    "%matplotlib inline\n",
    "import numpy as np\n",
    "import matplotlib.pylab as plt\n",
    "import lsst.sims.maf.db as db\n",
    "import lsst.sims.maf.metrics as metrics\n",
    "import lsst.sims.maf.slicers as slicers\n",
    "import lsst.sims.maf.stackers as stackers\n",
    "import lsst.sims.maf.plots as plots\n",
    "import lsst.sims.maf.metricBundles as metricBundles\n",
    "import lsst.sims.maf.utils as utils"
   ]
  },
  {
   "cell_type": "code",
   "execution_count": 2,
   "metadata": {
    "collapsed": false
   },
   "outputs": [],
   "source": [
    "class BruteOSFMetric(metrics.BaseMetric):\n",
    "    \"\"\"Assume I can't trust the slewtime or visittime colums\"\"\"\n",
    "    def __init__(self, metricName='BruteOSFMetric',\n",
    "            expTimeCol='expTime', mjdCol='expMJD', maxgap=10., fudge=0, **kwargs):\n",
    "        self.expTimeCol = expTimeCol\n",
    "        self.maxgap = maxgap/60./24. # convert from min to days\n",
    "        self.mjdCol = mjdCol\n",
    "        self.fudge = fudge\n",
    "        super(BruteOSFMetric, self).__init__(col=[self.expTimeCol, mjdCol],\n",
    "                                                        metricName=metricName, units='OpenShutter/TotalTime',\n",
    "                                                        **kwargs)\n",
    "                                                                                                        \n",
    "    def run(self, dataSlice, slicePoint=None):\n",
    "        times = np.sort(dataSlice[self.mjdCol])\n",
    "        diff = np.diff(times)\n",
    "        good = np.where(diff < self.maxgap)\n",
    "        openTime = np.sum(diff[good])*24.*3600.\n",
    "        result = np.sum(dataSlice[self.expTimeCol]+self.fudge) / float(openTime)\n",
    "        return result\n"
   ]
  },
  {
   "cell_type": "code",
   "execution_count": 3,
   "metadata": {
    "collapsed": false
   },
   "outputs": [],
   "source": [
    "conns = []\n",
    "colmap_dicts = []\n",
    "conns.append(db.SimpleDatabase('opsim3_61_sqlite.db', defaultTable='Summary', groupBy='expMJD',\n",
    "                               defaultdbTables={'Summary': ['Summary', 'obsHistID']}))\n",
    "colmap_dicts.append({'slewtime': 'slewTime', 'exptime': 'expTime', 'visittime': 'expTime', 'mjd':'expMJD'})\n",
    "\n",
    "\n",
    "\n",
    "conns.append(db.SimpleDatabase('opsimblitz2_1060_sqlite.db', defaultTable='Summary', groupBy='expMJD',\n",
    "                               defaultdbTables={'Summary': ['Summary', 'obsHistID']}))\n",
    "colmap_dicts.append({'slewtime': 'slewTime', 'exptime': 'visitExpTime', 'visittime': 'visitTime', 'mjd':'expMJD'})\n",
    "\n",
    "\n",
    "conns.append(db.SimpleDatabase('enigma_1189_sqlite.db', defaultTable='Summary', groupBy='expMJD',\n",
    "                               defaultdbTables={'Summary': ['Summary', 'obsHistID']}))\n",
    "colmap_dicts.append({'slewtime': 'slewTime', 'exptime': 'visitExpTime', 'visittime': 'visitTime', 'mjd':'expMJD'})\n",
    "\n",
    "\n",
    "conns.append(db.SimpleDatabase('minion_1016_sqlite.db', defaultTable='Summary', groupBy='expMJD',\n",
    "                               defaultdbTables={'Summary': ['Summary', 'obsHistID']}))\n",
    "colmap_dicts.append({'slewtime': 'slewTime', 'exptime': 'visitExpTime', 'visittime': 'visitTime', 'mjd':'expMJD'})\n",
    "\n"
   ]
  },
  {
   "cell_type": "code",
   "execution_count": 4,
   "metadata": {
    "collapsed": false
   },
   "outputs": [
    {
     "name": "stdout",
     "output_type": "stream",
     "text": [
      "Querying database Summary with no constraint for columns ['slewTime', 'airmass', 'fieldDec', 'expTime', 'expMJD'].\n",
      "Found 2651588 visits\n",
      "Running:  ['opsim_BruteOSFMetric_UNIS', 'opsim_Median_slewTime_UNIS', 'opsim_Median_normairmass_UNIS']\n",
      "Completed metric generation.\n",
      "Running reduce methods.\n",
      "Running summary statistics.\n",
      "Completed.\n",
      "Querying database Summary with no constraint for columns ['slewTime', 'airmass', 'fieldDec', 'visitExpTime', 'expMJD'].\n",
      "Found 2551637 visits\n",
      "Running:  ['opsim_BruteOSFMetric_UNIS', 'opsim_Median_slewTime_UNIS', 'opsim_Median_normairmass_UNIS']\n",
      "Completed metric generation.\n",
      "Running reduce methods.\n",
      "Running summary statistics.\n",
      "Completed.\n",
      "Querying database Summary with no constraint for columns ['slewTime', 'airmass', 'fieldDec', 'visitExpTime', 'expMJD'].\n",
      "Found 2469307 visits\n",
      "Running:  ['opsim_BruteOSFMetric_UNIS', 'opsim_Median_slewTime_UNIS', 'opsim_Median_normairmass_UNIS']\n",
      "Completed metric generation.\n",
      "Running reduce methods.\n",
      "Running summary statistics.\n",
      "Completed.\n",
      "Querying database Summary with no constraint for columns ['slewTime', 'airmass', 'fieldDec', 'visitExpTime', 'expMJD'].\n",
      "Found 2447931 visits\n",
      "Running:  ['opsim_BruteOSFMetric_UNIS', 'opsim_Median_slewTime_UNIS', 'opsim_Median_normairmass_UNIS']\n",
      "Completed metric generation.\n",
      "Running reduce methods.\n",
      "Running summary statistics.\n",
      "Completed.\n"
     ]
    }
   ],
   "source": [
    "results = []\n",
    "i=0\n",
    "for conn,colmap_dict in zip(conns, colmap_dicts):\n",
    "    bundleList = []\n",
    "    sql = ''\n",
    "    slicer = slicers.UniSlicer()\n",
    "    if i == 0:\n",
    "        fudge = -4.\n",
    "    else:\n",
    "        fudge = 0.\n",
    "    i += 1\n",
    "    metric = BruteOSFMetric(expTimeCol=colmap_dict['exptime'],\n",
    "                                   mjdCol=colmap_dict['mjd'], fudge=fudge)\n",
    "    bundle = metricBundles.MetricBundle(metric, slicer, sql)\n",
    "    bundleList.append(bundle)\n",
    "    metric = metrics.MedianMetric(col='normairmass')\n",
    "    bundle = metricBundles.MetricBundle(metric, slicer, sql)\n",
    "    bundleList.append(bundle)\n",
    "    \n",
    "    metric = metrics.MedianMetric(col=colmap_dict['slewtime'])\n",
    "    bundle = metricBundles.MetricBundle(metric, slicer, sql)\n",
    "    bundleList.append(bundle)\n",
    "    \n",
    "    bd = metricBundles.makeBundlesDictFromList(bundleList)\n",
    "    group = metricBundles.MetricBundleGroup(bd, conn)\n",
    "    group.runAll()\n",
    "    results.append(bundleList)"
   ]
  },
  {
   "cell_type": "code",
   "execution_count": 5,
   "metadata": {
    "collapsed": false
   },
   "outputs": [],
   "source": [
    "osf = [bl[0].metricValues for bl in results]\n",
    "normAir = [bl[1].metricValues for bl in results]"
   ]
  },
  {
   "cell_type": "code",
   "execution_count": null,
   "metadata": {
    "collapsed": false
   },
   "outputs": [],
   "source": []
  },
  {
   "cell_type": "code",
   "execution_count": 6,
   "metadata": {
    "collapsed": false
   },
   "outputs": [
    {
     "data": {
      "text/plain": [
       "[masked_array(data = [1.0958415071696619],\n",
       "              mask = [False],\n",
       "        fill_value = -666.0), masked_array(data = [1.1234914484593699],\n",
       "              mask = [False],\n",
       "        fill_value = -666.0), masked_array(data = [1.0775495831422173],\n",
       "              mask = [False],\n",
       "        fill_value = -666.0), masked_array(data = [1.073198000531009],\n",
       "              mask = [False],\n",
       "        fill_value = -666.0)]"
      ]
     },
     "execution_count": 6,
     "metadata": {},
     "output_type": "execute_result"
    }
   ],
   "source": [
    "normAir"
   ]
  },
  {
   "cell_type": "code",
   "execution_count": 7,
   "metadata": {
    "collapsed": false
   },
   "outputs": [
    {
     "data": {
      "text/plain": [
       "[masked_array(data = [0.7431762502397868],\n",
       "              mask = [False],\n",
       "        fill_value = -666.0), masked_array(data = [0.7555777866507578],\n",
       "              mask = [False],\n",
       "        fill_value = -666.0), masked_array(data = [0.7333276606428204],\n",
       "              mask = [False],\n",
       "        fill_value = -666.0), masked_array(data = [0.735662801166647],\n",
       "              mask = [False],\n",
       "        fill_value = -666.0)]"
      ]
     },
     "execution_count": 7,
     "metadata": {},
     "output_type": "execute_result"
    }
   ],
   "source": [
    "osf"
   ]
  },
  {
   "cell_type": "code",
   "execution_count": 12,
   "metadata": {
    "collapsed": false
   },
   "outputs": [],
   "source": [
    "conns = []\n",
    "colmap_dicts = []\n",
    "conns.append(db.SimpleDatabase('marching_d365.db', defaultTable='SummaryAllProps',\n",
    "                               defaultdbTables={'SummaryAllProps': ['SummaryAllProps', 'observationId']}))\n",
    "colmap_dicts.append({'slewtime': 'slewtime', 'exptime': 'exptime', 'visittime': 'exptime', 'mjd':'mjd'})\n",
    "\n"
   ]
  },
  {
   "cell_type": "code",
   "execution_count": 25,
   "metadata": {
    "collapsed": false
   },
   "outputs": [
    {
     "name": "stdout",
     "output_type": "stream",
     "text": [
      "Querying database SummaryAllProps with no constraint for columns ['mjd', 'airmass', 'dec', 'exptime', 'slewtime'].\n",
      "Found 297317 visits\n",
      "Running:  ['opsim_BruteOSFMetric_UNIS', 'opsim_Median_slewtime_UNIS', 'opsim_Mean_normairmass_UNIS']\n",
      "Completed metric generation.\n",
      "Running reduce methods.\n",
      "Running summary statistics.\n",
      "Completed.\n"
     ]
    }
   ],
   "source": [
    "results = []\n",
    "i=0\n",
    "for conn,colmap_dict in zip(conns, colmap_dicts):\n",
    "    bundleList = []\n",
    "    sql = ''\n",
    "    slicer = slicers.UniSlicer()\n",
    "    metric = BruteOSFMetric(expTimeCol=colmap_dict['exptime'],\n",
    "                                   mjdCol=colmap_dict['mjd'], fudge=fudge)\n",
    "    bundle = metricBundles.MetricBundle(metric, slicer, sql)\n",
    "    bundleList.append(bundle)\n",
    "    \n",
    "    stacker = stackers.NormAirmassStacker(decCol='dec')\n",
    "    metric = metrics.MedianMetric(col='normairmass')\n",
    "    bundle = metricBundles.MetricBundle(metric, slicer, sql, stackerList=[stacker])\n",
    "    bundleList.append(bundle)\n",
    "    \n",
    "    metric = metrics.MedianMetric(col=colmap_dict['slewtime'])\n",
    "    bundle = metricBundles.MetricBundle(metric, slicer, sql)\n",
    "    bundleList.append(bundle)\n",
    "    \n",
    "    bd = metricBundles.makeBundlesDictFromList(bundleList)\n",
    "    group = metricBundles.MetricBundleGroup(bd, conn)\n",
    "    group.runAll()\n",
    "    results.append(bundleList)"
   ]
  },
  {
   "cell_type": "code",
   "execution_count": 26,
   "metadata": {
    "collapsed": true
   },
   "outputs": [],
   "source": [
    "feature_osf = bundleList[0].metricValues\n",
    "feature_nair = bundleList[1].metricValues"
   ]
  },
  {
   "cell_type": "code",
   "execution_count": 16,
   "metadata": {
    "collapsed": false
   },
   "outputs": [
    {
     "data": {
      "text/plain": [
       "<matplotlib.legend.Legend at 0x133a042d0>"
      ]
     },
     "execution_count": 16,
     "metadata": {},
     "output_type": "execute_result"
    },
    {
     "data": {
      "image/png": "[encoded data removed]",
      "text/plain": [
       "<matplotlib.figure.Figure at 0x13b347850>"
      ]
     },
     "metadata": {},
     "output_type": "display_data"
    }
   ],
   "source": [
    "max_osf = 30./(34)\n",
    "plt.plot(normAir, osf, 'ko', label='opsim, 2013-2017')\n",
    "plt.xlim([1.15, .95])\n",
    "plt.ylim([.7, .9])\n",
    "plt.plot(1, max_osf, 'r*', label='meridian, no slew')\n",
    "plt.xlabel('Median Normalized Airmass')\n",
    "plt.ylabel('Open Shutter Fraction')\n",
    "plt.axhline(y=30./(32.+4.5), linestyle='--', color='k')\n",
    "plt.axvline(x=1., linestyle='--', color='k')\n",
    "\n",
    "plt.plot(feature_nair, feature_osf, 'r*', label='Feature Sched')\n",
    "\n",
    "plt.legend(scatterpoints=1, numpoints=1, loc='upper left')"
   ]
  },
  {
   "cell_type": "code",
   "execution_count": 17,
   "metadata": {
    "collapsed": false
   },
   "outputs": [
    {
     "data": {
      "text/plain": [
       "masked_array(data = [0.7792103320356255],\n",
       "             mask = [False],\n",
       "       fill_value = -666.0)"
      ]
     },
     "execution_count": 17,
     "metadata": {},
     "output_type": "execute_result"
    }
   ],
   "source": [
    "\n",
    "feature_osf"
   ]
  },
  {
   "cell_type": "code",
   "execution_count": 27,
   "metadata": {
    "collapsed": false
   },
   "outputs": [
    {
     "data": {
      "text/plain": [
       "masked_array(data = [1.4892683182332174],\n",
       "             mask = [False],\n",
       "       fill_value = -666.0)"
      ]
     },
     "execution_count": 27,
     "metadata": {},
     "output_type": "execute_result"
    }
   ],
   "source": [
    "feature_nair\n"
   ]
  },
  {
   "cell_type": "code",
   "execution_count": 24,
   "metadata": {
    "collapsed": false
   },
   "outputs": [
    {
     "name": "stdout",
     "output_type": "stream",
     "text": [
      "Querying database SummaryAllProps with no constraint for columns ['airmass', 'dec'].\n",
      "Found 297317 visits\n",
      "Running:  ['opsim_Count_normairmass_ONED']\n",
      "Completed metric generation.\n",
      "Running reduce methods.\n",
      "Running summary statistics.\n",
      "Completed.\n",
      "Plotting figures with \"\" constraint now.\n",
      "Plotting complete.\n"
     ]
    },
    {
     "data": {
      "image/png": "[encoded data removed]",
      "text/plain": [
       "<matplotlib.figure.Figure at 0x12d548190>"
      ]
     },
     "metadata": {},
     "output_type": "display_data"
    }
   ],
   "source": [
    "bundleList = []\n",
    "\n",
    "slicer = slicers.OneDSlicer(sliceColName='normairmass')\n",
    "stacker = stackers.NormAirmassStacker(decCol='dec')\n",
    "metric = metrics.CountMetric(col='normairmass')\n",
    "bundle = metricBundles.MetricBundle(metric, slicer, sql, stackerList=[stacker])\n",
    "bundleList.append(bundle)\n",
    "\n",
    "\n",
    "bd = metricBundles.makeBundlesDictFromList(bundleList)\n",
    "group = metricBundles.MetricBundleGroup(bd, conn)\n",
    "group.runAll()\n",
    "group.plotAll(closefigs=False)"
   ]
  },
  {
   "cell_type": "code",
   "execution_count": 22,
   "metadata": {
    "collapsed": false
   },
   "outputs": [
    {
     "name": "stdout",
     "output_type": "stream",
     "text": [
      "Help on class OneDSlicer in module lsst.sims.maf.slicers.oneDSlicer:\n",
      "\n",
      "class OneDSlicer(lsst.sims.maf.slicers.baseSlicer.BaseSlicer)\n",
      " |  oneD Slicer.\n",
      " |  \n",
      " |  Method resolution order:\n",
      " |      OneDSlicer\n",
      " |      lsst.sims.maf.slicers.baseSlicer.BaseSlicer\n",
      " |      future.types.newobject.newobject\n",
      " |      __builtin__.object\n",
      " |  \n",
      " |  Methods defined here:\n",
      " |  \n",
      " |  __eq__(self, otherSlicer)\n",
      " |      Evaluate if slicers are equivalent.\n",
      " |  \n",
      " |  __init__(self, sliceColName=None, sliceColUnits=None, bins=None, binMin=None, binMax=None, binsize=None, verbose=True, badval=0)\n",
      " |      'sliceColName' is the name of the data column to use for slicing.\n",
      " |      'sliceColUnits' lets the user set the units (for plotting purposes) of the slice column.\n",
      " |      'bins' can be a numpy array with the binpoints for sliceCol or a single integer value\n",
      " |      (if a single value, this will be used as the number of bins, together with data min/max or binMin/Max),\n",
      " |      as in numpy's histogram function.\n",
      " |      If 'binsize' is used, this will override the bins value and will be used together with the data min/max\n",
      " |      or binMin/Max to set the binpoint values.\n",
      " |      \n",
      " |      Bins work like numpy histogram bins: the last 'bin' value is end value of last bin;\n",
      " |        all bins except for last bin are half-open ([a, b>), the last one is ([a, b]).\n",
      " |  \n",
      " |  setupSlicer(self, simData, maps=None)\n",
      " |      Set up bins in slicer.\n",
      " |  \n",
      " |  ----------------------------------------------------------------------\n",
      " |  Methods inherited from lsst.sims.maf.slicers.baseSlicer.BaseSlicer:\n",
      " |  \n",
      " |  __getitem__(self, islice)\n",
      " |  \n",
      " |  __iter__(self)\n",
      " |      Iterate over the slices.\n",
      " |  \n",
      " |  __len__(self)\n",
      " |      Return nslice, the number of slicePoints in the slicer.\n",
      " |  \n",
      " |  __ne__(self, otherSlicer)\n",
      " |      Evaluate if two slicers are not equivalent.\n",
      " |  \n",
      " |  __next__(self)\n",
      " |      Returns results of self._sliceSimData when iterating over slicer.\n",
      " |      \n",
      " |      Results of self._sliceSimData should be dictionary of\n",
      " |      {'idxs': the data indexes relevant for this slice of the slicer,\n",
      " |      'slicePoint': the metadata for the slicePoint, which always includes 'sid' key for ID of slicePoint.}\n",
      " |  \n",
      " |  getSlicePoints(self)\n",
      " |      Return the slicePoint metadata, for all slice points.\n",
      " |  \n",
      " |  outputJSON(self, metricValues, metricName='', simDataName='', metadata='', plotDict=None)\n",
      " |      Send metric data to JSON streaming API, along with a little bit of metadata.\n",
      " |      \n",
      " |      This method will only work for metrics where the metricDtype is float or int,\n",
      " |      as JSON will not interpret more complex data properly. These values can't be plotted anyway though.\n",
      " |      \n",
      " |      Parameters\n",
      " |      -----------\n",
      " |      metricValues : np.ma.MaskedArray or np.ndarray\n",
      " |          The metric values.\n",
      " |      metricName : str, optional\n",
      " |          The name of the metric. Default ''.\n",
      " |      simDataName : str, optional\n",
      " |          The name of the simulated data source. Default ''.\n",
      " |      metadata : str, optional\n",
      " |          The metadata about this metric. Default ''.\n",
      " |      plotDict : dict, optional.\n",
      " |          The plotDict for this metric bundle. Default None.\n",
      " |      \n",
      " |      Returns\n",
      " |      --------\n",
      " |      StringIO\n",
      " |          StringIO object containing a header dictionary with metricName/metadata/simDataName/slicerName,\n",
      " |          and plot labels from plotDict, and metric values/data for plot.\n",
      " |          if oneDSlicer, the data is [ [bin_left_edge, value], [bin_left_edge, value]..].\n",
      " |          if a spatial slicer, the data is [ [lon, lat, value], [lon, lat, value] ..].\n",
      " |  \n",
      " |  readData(self, infilename)\n",
      " |      Read metric data from disk, along with the info to rebuild the slicer (minus new slicing capability).\n",
      " |      \n",
      " |      Parameters\n",
      " |      -----------\n",
      " |      infilename: str\n",
      " |          The filename containing the metric data.\n",
      " |      \n",
      " |      Returns\n",
      " |      -------\n",
      " |      np.ma.MaskedArray, lsst.sims.maf.slicer, dict\n",
      " |          MetricValues stored in data file, the slicer basis for those metric values, and a dictionary\n",
      " |          containing header information (runName, metadata, etc.).\n",
      " |  \n",
      " |  writeData(self, outfilename, metricValues, metricName='', simDataName='', constraint=None, metadata='', plotDict=None, displayDict=None)\n",
      " |      Save metric values along with the information required to re-build the slicer.\n",
      " |      \n",
      " |      Parameters\n",
      " |      -----------\n",
      " |      outfilename : str\n",
      " |          The output file name.\n",
      " |      metricValues : np.ma.MaskedArray or np.ndarray\n",
      " |          The metric values to save to disk.\n",
      " |  \n",
      " |  ----------------------------------------------------------------------\n",
      " |  Data and other attributes inherited from lsst.sims.maf.slicers.baseSlicer.BaseSlicer:\n",
      " |  \n",
      " |  registry = {'HealpixSDSSSlicer': <class 'lsst.sims.maf.slicers.healpix...\n",
      " |  \n",
      " |  ----------------------------------------------------------------------\n",
      " |  Methods inherited from future.types.newobject.newobject:\n",
      " |  \n",
      " |  __long__(self)\n",
      " |  \n",
      " |  __native__(self)\n",
      " |      Hook for the future.utils.native() function\n",
      " |  \n",
      " |  __nonzero__(self)\n",
      " |  \n",
      " |  __unicode__(self)\n",
      " |  \n",
      " |  next(self)\n",
      " |  \n",
      " |  ----------------------------------------------------------------------\n",
      " |  Data descriptors inherited from future.types.newobject.newobject:\n",
      " |  \n",
      " |  __dict__\n",
      " |      dictionary for instance variables (if defined)\n",
      " |  \n",
      " |  __weakref__\n",
      " |      list of weak references to the object (if defined)\n",
      "\n"
     ]
    }
   ],
   "source": [
    "help(slicers.OneDSlicer)"
   ]
  },
  {
   "cell_type": "code",
   "execution_count": null,
   "metadata": {
    "collapsed": true
   },
   "outputs": [],
   "source": []
  }
 ],
 "metadata": {
  "anaconda-cloud": {},
  "kernelspec": {
   "display_name": "Python [conda root]",
   "language": "python",
   "name": "conda-root-py"
  },
  "language_info": {
   "codemirror_mode": {
    "name": "ipython",
    "version": 2
   },
   "file_extension": ".py",
   "mimetype": "text/x-python",
   "name": "python",
   "nbconvert_exporter": "python",
   "pygments_lexer": "ipython2",
   "version": "2.7.12"
  }
 },
 "nbformat": 4,
 "nbformat_minor": 1
}
