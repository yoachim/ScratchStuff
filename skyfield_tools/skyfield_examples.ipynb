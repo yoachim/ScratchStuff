{
 "cells": [
  {
   "cell_type": "markdown",
   "metadata": {},
   "source": [
    "Skyfield looks better than pyephem, but needs some wrappers to do rise,set,transit times. And maybe moon phases\n",
    "\n",
    "For the moon phase.  Maybe simplify to say the moon is a sphere and the sun and earth are points. Any spot that has earth and sun at alt > 0 is considered illuminated?\n",
    "\n",
    "I think that just means the % illuminated visible from earth is up to some longitude line.  So it's the surface area intergral, with appropriet limits.\n",
    "\n",
    "I suppose I could just use the x,y,z position of the observer."
   ]
  },
  {
   "cell_type": "code",
   "execution_count": null,
   "metadata": {
    "collapsed": true
   },
   "outputs": [],
   "source": []
  }
 ],
 "metadata": {
  "kernelspec": {
   "display_name": "Python 2",
   "language": "python",
   "name": "python2"
  },
  "language_info": {
   "codemirror_mode": {
    "name": "ipython",
    "version": 2
   },
   "file_extension": ".py",
   "mimetype": "text/x-python",
   "name": "python",
   "nbconvert_exporter": "python",
   "pygments_lexer": "ipython2",
   "version": "2.7.11"
  }
 },
 "nbformat": 4,
 "nbformat_minor": 0
}
