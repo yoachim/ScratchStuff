{
 "cells": [
  {
   "cell_type": "code",
   "execution_count": 1,
   "metadata": {
    "collapsed": false
   },
   "outputs": [
    {
     "name": "stderr",
     "output_type": "stream",
     "text": [
      "WARNING: AstropyDeprecationWarning: Config parameter 'default_cosmology' in section [astropy.cosmology.core] is deprecated. Use science state astropy.cosmology.core.default_cosmology instead. [astropy.utils.state]\n",
      "WARNING:astropy:AstropyDeprecationWarning: Config parameter 'default_cosmology' in section [astropy.cosmology.core] is deprecated. Use science state astropy.cosmology.core.default_cosmology instead.\n"
     ]
    }
   ],
   "source": [
    "import numpy as np\n",
    "import matplotlib.pyplot as plt\n",
    "%matplotlib inline\n",
    "import lsst.sims.maf.db as db\n",
    "import lsst.sims.maf.metrics as metrics\n",
    "import lsst.sims.maf.slicers as slicers\n",
    "import lsst.sims.maf.stackers as stackers\n",
    "import lsst.sims.maf.metricBundles as metricBundles"
   ]
  },
  {
   "cell_type": "code",
   "execution_count": 2,
   "metadata": {
    "collapsed": true
   },
   "outputs": [],
   "source": [
    "database = 'enigma_1189_sqlite.db'\n",
    "opsdb = db.OpsimDatabase(database)\n",
    "outDir = 'meta'\n",
    "resultsDb = db.ResultsDb(outDir=outDir)"
   ]
  },
  {
   "cell_type": "code",
   "execution_count": 13,
   "metadata": {
    "collapsed": false
   },
   "outputs": [
    {
     "name": "stdout",
     "output_type": "stream",
     "text": [
      "Healpix slicer using NSIDE=16, approximate resolution 219.871130 arcminutes\n"
     ]
    }
   ],
   "source": [
    "filters = ['u','g','r','i','z','y']\n",
    "nside = 16\n",
    "bundleList = []\n",
    "ss = metrics.MedianMetric()\n",
    "met = metrics.Coaddm5Metric()\n",
    "amMet = metrics.MedianMetric(col='airmass')\n",
    "slicer = slicers.HealpixSlicer(nside=nside)\n",
    "for f in filters:\n",
    "    bundle = metricBundles.MetricBundle(met,slicer, 'filter=\"%s\"' % f, summaryMetrics=[ss])\n",
    "    bundleList.append(bundle)\n",
    "    bundle = metricBundles.MetricBundle(amMet,slicer, 'filter=\"%s\"' % f, summaryMetrics=[ss])\n",
    "    bundleList.append(bundle)\n",
    "    "
   ]
  },
  {
   "cell_type": "code",
   "execution_count": 14,
   "metadata": {
    "collapsed": false
   },
   "outputs": [
    {
     "name": "stdout",
     "output_type": "stream",
     "text": [
      "Querying database with constraint filter=\"y\"\n",
      "Found 446281 visits\n",
      "Running:  ['opsim_Median_airmass_y_HEAL', 'opsim_CoaddM5_y_HEAL']\n",
      "Completed metric generation.\n",
      "Running reduce methods.\n",
      "Running summary statistics.\n",
      "Completed.\n",
      "Querying database with constraint filter=\"r\"\n",
      "Found 544710 visits\n",
      "Running:  ['opsim_Median_airmass_r_HEAL', 'opsim_CoaddM5_r_HEAL']\n",
      "Completed metric generation.\n",
      "Running reduce methods.\n",
      "Running summary statistics.\n",
      "Completed.\n",
      "Querying database with constraint filter=\"g\"\n",
      "Found 249108 visits\n",
      "Running:  ['opsim_CoaddM5_g_HEAL', 'opsim_Median_airmass_g_HEAL']\n",
      "Completed metric generation.\n",
      "Running reduce methods.\n",
      "Running summary statistics.\n",
      "Completed.\n",
      "Querying database with constraint filter=\"u\"\n",
      "Found 186607 visits\n",
      "Running:  ['opsim_Median_airmass_u_HEAL', 'opsim_CoaddM5_u_HEAL']\n",
      "Completed metric generation.\n",
      "Running reduce methods.\n",
      "Running summary statistics.\n",
      "Completed.\n",
      "Querying database with constraint filter=\"i\"\n",
      "Found 545488 visits\n",
      "Running:  ['opsim_Median_airmass_i_HEAL', 'opsim_CoaddM5_i_HEAL']\n",
      "Completed metric generation.\n",
      "Running reduce methods.\n",
      "Running summary statistics.\n",
      "Completed.\n",
      "Querying database with constraint filter=\"z\"\n",
      "Found 497113 visits\n",
      "Running:  ['opsim_Median_airmass_z_HEAL', 'opsim_CoaddM5_z_HEAL']\n",
      "Completed metric generation.\n",
      "Running reduce methods.\n",
      "Running summary statistics.\n",
      "Completed.\n"
     ]
    }
   ],
   "source": [
    "bdict = metricBundles.makeBundlesDictFromList(bundleList)\n",
    "bgroup = metricBundles.MetricBundleGroup(bdict, opsdb, outDir=outDir,\n",
    "                                         resultsDb=resultsDb)\n",
    "bgroup.runAll()\n",
    "#bgroup.plotAll(closefigs=False)"
   ]
  },
  {
   "cell_type": "code",
   "execution_count": 16,
   "metadata": {
    "collapsed": false
   },
   "outputs": [
    {
     "data": {
      "text/plain": [
       "{'Median': 27.224228918595344}"
      ]
     },
     "execution_count": 16,
     "metadata": {},
     "output_type": "execute_result"
    }
   ],
   "source": [
    "bundleList[2].summaryValues"
   ]
  },
  {
   "cell_type": "code",
   "execution_count": 17,
   "metadata": {
    "collapsed": true
   },
   "outputs": [],
   "source": [
    "def baseCompareMetric(object):\n",
    "    def __init__(self, normVal=None, reverse=False, compareMethod=operator.div):\n",
    "        \"\"\"\n",
    "        Set up a metric value for comparing between runs\n",
    "        \"\"\"\n",
    "        self.normVal = normVal\n",
    "        self.reverse = reverse\n",
    "        self.compareMethod = compareMethod\n",
    "        \n",
    "    def _compute(self, data):\n",
    "        \"\"\"\n",
    "        Take the data and do some stuff\n",
    "        \"\"\"\n",
    "        # By default, just pass things through.\n",
    "        return data\n",
    "        \n",
    "    def __call__(self, data, raw=False):\n",
    "        \"\"\"\n",
    "        \n",
    "        \"\"\"\n",
    "        result = self._compute(data)\n",
    "        if reverse:\n",
    "            result = 1./reverse\n",
    "        if not raw:\n",
    "            if normVal is not None:\n",
    "                result = compareMethod(result,self.normVal)\n",
    "        return result\n",
    "        \n",
    "    "
   ]
  },
  {
   "cell_type": "markdown",
   "metadata": {},
   "source": [
    "So what we really need, is a list of functions that will operate on the numpy array of the restored summary metric values.  Then we make an array to hold the results that's nRuns x nFunctions in size. Then can plot any way we like!\n"
   ]
  },
  {
   "cell_type": "code",
   "execution_count": null,
   "metadata": {
    "collapsed": true
   },
   "outputs": [],
   "source": []
  }
 ],
 "metadata": {
  "kernelspec": {
   "display_name": "Python 2",
   "language": "python",
   "name": "python2"
  },
  "language_info": {
   "codemirror_mode": {
    "name": "ipython",
    "version": 2
   },
   "file_extension": ".py",
   "mimetype": "text/x-python",
   "name": "python",
   "nbconvert_exporter": "python",
   "pygments_lexer": "ipython2",
   "version": "2.7.9"
  }
 },
 "nbformat": 4,
 "nbformat_minor": 0
}
