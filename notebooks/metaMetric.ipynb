{
 "cells": [
  {
   "cell_type": "markdown",
   "metadata": {},
   "source": [
    "Let's start by running schedVal on three opsim runs and then comparing the outputs\n",
    "\n",
    "    schedulerValidation.py enigma_1189_sqlite.db --outDir enigma_1189 --seeingCol finSeeing\n",
    "    schedulerValidation.py ops2_1098_sqlite.db --outdir ops2_1098 --seeingCol finSeeing\n",
    "    schedulerValidation.py ops2_1093_sqlite.db --outdir ops2_1093 --seeingCol finSeeing"
   ]
  },
  {
   "cell_type": "code",
   "execution_count": 1,
   "metadata": {
    "collapsed": false
   },
   "outputs": [
    {
     "name": "stderr",
     "output_type": "stream",
     "text": [
      "WARNING: AstropyDeprecationWarning: Config parameter 'default_cosmology' in section [astropy.cosmology.core] is deprecated. Use science state astropy.cosmology.core.default_cosmology instead. [astropy.utils.state]\n",
      "WARNING:astropy:AstropyDeprecationWarning: Config parameter 'default_cosmology' in section [astropy.cosmology.core] is deprecated. Use science state astropy.cosmology.core.default_cosmology instead.\n"
     ]
    }
   ],
   "source": [
    "import numpy as np\n",
    "import matplotlib.pyplot as plt\n",
    "%matplotlib inline\n",
    "import lsst.sims.maf.db as db\n",
    "import lsst.sims.maf.metrics as metrics\n",
    "import lsst.sims.maf.slicers as slicers\n",
    "import lsst.sims.maf.stackers as stackers\n",
    "import lsst.sims.maf.metricBundles as metricBundles"
   ]
  },
  {
   "cell_type": "code",
   "execution_count": 2,
   "metadata": {
    "collapsed": true
   },
   "outputs": [],
   "source": [
    "# Load up all the summary stats for each run\n",
    "runNames = ['enigma_1189', 'ops2_1098', 'ops2_1093']\n",
    "summaryDicts = []\n",
    "for run in runNames:\n",
    "    database = db.ResultsDb(run)\n",
    "    summaryDicts.append(database.getSummaryStats)"
   ]
  },
  {
   "cell_type": "code",
   "execution_count": 3,
   "metadata": {
    "collapsed": false
   },
   "outputs": [],
   "source": [
    "database = db.ResultsDb('enigma_1189')"
   ]
  },
  {
   "cell_type": "code",
   "execution_count": null,
   "metadata": {
    "collapsed": false
   },
   "outputs": [],
   "source": []
  },
  {
   "cell_type": "code",
   "execution_count": 16,
   "metadata": {
    "collapsed": false
   },
   "outputs": [
    {
     "data": {
      "text/plain": [
       "{'Median': 27.224228918595344}"
      ]
     },
     "execution_count": 16,
     "metadata": {},
     "output_type": "execute_result"
    }
   ],
   "source": []
  },
  {
   "cell_type": "code",
   "execution_count": 17,
   "metadata": {
    "collapsed": true
   },
   "outputs": [],
   "source": [
    "def baseCompareMetric(object):\n",
    "    def __init__(self, normVal=None, reverse=False, compareMethod=operator.div):\n",
    "        \"\"\"\n",
    "        Set up a metric value for comparing between runs\n",
    "        \"\"\"\n",
    "        self.normVal = normVal\n",
    "        self.reverse = reverse\n",
    "        self.compareMethod = compareMethod\n",
    "        \n",
    "    def _compute(self, data):\n",
    "        \"\"\"\n",
    "        Take the data and do some stuff\n",
    "        \"\"\"\n",
    "        # By default, just pass things through.\n",
    "        return data\n",
    "        \n",
    "    def __call__(self, summaryDict, raw=False):\n",
    "        \"\"\"\n",
    "        \n",
    "        \"\"\"\n",
    "        result = self._compute(summaryDict)\n",
    "        if reverse:\n",
    "            result = 1./result\n",
    "        if not raw:\n",
    "            if normVal is not None:\n",
    "                result = compareMethod(result,self.normVal)\n",
    "        return result\n",
    "        \n",
    "    "
   ]
  },
  {
   "cell_type": "markdown",
   "metadata": {},
   "source": [
    "So what we really need, is a list of functions that will operate on the numpy array of the restored summary metric values.  Then we make an array to hold the results that's nRuns x nFunctions in size. Then can plot any way we like!\n"
   ]
  },
  {
   "cell_type": "code",
   "execution_count": 7,
   "metadata": {
    "collapsed": true
   },
   "outputs": [],
   "source": [
    "def compareRuns(object):\n",
    "    def __init__(self, runList, metaMetricList, dbfiles=None, path=''):\n",
    "        if dbfiles is None:\n",
    "            dbfiles = [os.path.join(path,run,'resultsdb.sqlite') for run in runList]\n",
    "        self.resultArray = np.zeros((len(runList), len(metaMetricList)), dtype=float)\n",
    "        # Loop over dbfiles and metaMetricList to fill in values for resultArray\n",
    "        \n",
    "    def plotCompareAll(self, **kwargs):\n",
    "        \"\"\"\n",
    "        Label x-axis with metaMetric names, legend each line with runName\n",
    "        \"\"\"\n",
    "    def tableCompareAll(self):\n",
    "        \"\"\"\n",
    "        Print a table comparing all the metrics and runs\n",
    "        \"\"\"\n",
    "    def head2headPlot(self, run1,run2):\n",
    "        \"\"\"\n",
    "        Plot just 2 runs in a head-to-head comparision\n",
    "        \"\"\""
   ]
  },
  {
   "cell_type": "code",
   "execution_count": null,
   "metadata": {
    "collapsed": true
   },
   "outputs": [],
   "source": []
  }
 ],
 "metadata": {
  "kernelspec": {
   "display_name": "Python 2",
   "language": "python",
   "name": "python2"
  },
  "language_info": {
   "codemirror_mode": {
    "name": "ipython",
    "version": 2
   },
   "file_extension": ".py",
   "mimetype": "text/x-python",
   "name": "python",
   "nbconvert_exporter": "python",
   "pygments_lexer": "ipython2",
   "version": "2.7.9"
  }
 },
 "nbformat": 4,
 "nbformat_minor": 0
}
