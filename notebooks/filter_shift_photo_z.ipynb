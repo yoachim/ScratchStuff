{
 "cells": [
  {
   "cell_type": "markdown",
   "metadata": {},
   "source": [
    "A notebook to sketch out how one could use the filter bandpass change in LSST to effectively make a narrow band survey and do very acurate photo-z on emission line galaxies\n",
    "\n",
    "things to do:\n",
    "1. Download 2-3 example galaxy spectra from SDSS (spiral, elliptical, star burst). Note the mag and fibermag values.\n",
    "2. Load up the canonical LSST filter (I dunno, r?), and then offset it by a small amount that is close to the expected amount.\n",
    "3. plot $g-r$ and $r_{inner}-r_{outer}$ for the galaxies as a function of redshift.\n",
    "4. Use the camera functionality on the slicer to make maps of co-added depth using just the inner and outer chips to show that the coverage and depth are pretty good.  Maybe also total exposure time and/or nvisits just to be clear that it'll be good and deep.\n",
    "5. Presumably, there is some cool cosmology to be done with all-sky BAO or something with a super accurate galaxy map in a narrow redshift slice?\n",
    "5. Point out this is an ideal level 3 data product. Make a crazy pitch that LSST could make 10A shifts in the filter set every year and do a sequence of narrow band surveys! While making an all-sky image sounds intensive, it's essentially just increasing the catalog size as if there was 1 more exposure, so it would increase the total LSST catalog by ~0.1%"
   ]
  },
  {
   "cell_type": "code",
   "execution_count": 6,
   "metadata": {
    "collapsed": false
   },
   "outputs": [
    {
     "name": "stdout",
     "output_type": "stream",
     "text": [
      "Hb [-0.17712405  0.07385312  0.42151821  0.68278132  0.89672907  0.950216\n",
      "  1.18062127]\n",
      "OIII [-0.20111843  0.04254044  0.3800679   0.6337128   0.84142201  0.89334931\n",
      "  1.11703615]\n",
      "Ha [-0.39052263 -0.20463203  0.05287216  0.24638123  0.40484535  0.44446137\n",
      "  0.61511504]\n",
      "OII [ 0.07324926  0.40059029  0.8540381   1.19479474  1.47383955  1.54360075\n",
      "  1.84411054]\n"
     ]
    }
   ],
   "source": [
    "import numpy as np\n",
    "filter_edges= np.array([400., 522., 691., 818., 922., 948., 1060.])\n",
    "bright_lines = {'Ha':656.3, 'OIII':500.7, 'Hb':486.1, 'OII':372.7}\n",
    "for line in bright_lines:\n",
    "    print line, (filter_edges-bright_lines[line])/bright_lines[line]"
   ]
  },
  {
   "cell_type": "markdown",
   "metadata": {},
   "source": [
    "wow, so that OII line could be pretty awesome for mapping the z=1 structure."
   ]
  },
  {
   "cell_type": "code",
   "execution_count": null,
   "metadata": {
    "collapsed": true
   },
   "outputs": [],
   "source": []
  }
 ],
 "metadata": {
  "kernelspec": {
   "display_name": "Python 2",
   "language": "python",
   "name": "python2"
  },
  "language_info": {
   "codemirror_mode": {
    "name": "ipython",
    "version": 2
   },
   "file_extension": ".py",
   "mimetype": "text/x-python",
   "name": "python",
   "nbconvert_exporter": "python",
   "pygments_lexer": "ipython2",
   "version": "2.7.11"
  }
 },
 "nbformat": 4,
 "nbformat_minor": 0
}
