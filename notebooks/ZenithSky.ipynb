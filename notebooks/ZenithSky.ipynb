{
 "cells": [
  {
   "cell_type": "code",
   "execution_count": 1,
   "metadata": {
    "collapsed": true
   },
   "outputs": [],
   "source": [
    "import lsst.sims.skybrightness as sb\n",
    "import numpy as np\n",
    "import matplotlib.pylab as plt\n",
    "%matplotlib inline"
   ]
  },
  {
   "cell_type": "code",
   "execution_count": 2,
   "metadata": {
    "collapsed": false
   },
   "outputs": [],
   "source": [
    "# Load the sky model\n",
    "sm = sb.SkyModel(mags=True)"
   ]
  },
  {
   "cell_type": "code",
   "execution_count": 3,
   "metadata": {
    "collapsed": true
   },
   "outputs": [],
   "source": [
    "# Define MJDs to calc sky at\n",
    "mjds = np.arange(5700,5701,.1/24)\n",
    "# Set up arrays to hold the results\n",
    "filterNames = ['u','g','r','i','z','y']\n",
    "mags = np.zeros(mjds.size,dtype=zip(filterNames,[float]*6))\n",
    "coords = np.zeros(mjds.size, dtype=zip(['ra','dec'],[float]*2))\n",
    "moonAlt = np.zeros(mjds.size, dtype=float)\n",
    "sunAlt = np.zeros(mjds.size, dtype=float)"
   ]
  },
  {
   "cell_type": "code",
   "execution_count": 4,
   "metadata": {
    "collapsed": false
   },
   "outputs": [
    {
     "name": "stderr",
     "output_type": "stream",
     "text": [
      "/Users/yoachim/gitRepos/sims_utils/python/lsst/sims/utils/coordinateTransformations.py:492: RuntimeWarning: invalid value encountered in arccos\n",
      "  haRad0 =  numpy.arccos(costheta)\n",
      "/Users/yoachim/lsst/DarwinX86/healpy/1.8.1+11/lib/python/healpy-1.8.1-py2.7-macosx-10.5-x86_64.egg/healpy/pixelfunc.py:1045: FutureWarning: comparison to `None` will result in an elementwise object comparison in the future.\n",
      "  if phi == None:\n"
     ]
    }
   ],
   "source": [
    "# Loop over the mjds and calculate the sky brighness at zenith\n",
    "for i,mjd in enumerate(mjds):\n",
    "    sm.setRaDecMjd(0.,90.,mjd, degrees=True, azAlt=True)\n",
    "    mags[i] = sm.returnMags()\n",
    "    coords['ra'][i] += sm.ra\n",
    "    coords['dec'][i] += sm.dec\n",
    "    moonAlt[i] += sm.moonAlt\n",
    "    sunAlt[i] += sm.sunAlt"
   ]
  },
  {
   "cell_type": "code",
   "execution_count": 5,
   "metadata": {
    "collapsed": false
   },
   "outputs": [
    {
     "data": {
      "text/plain": [
       "91.88821411132812"
      ]
     },
     "execution_count": 5,
     "metadata": {},
     "output_type": "execute_result"
    }
   ],
   "source": [
    "# Check what moon phase it was run at (0=new moon, 100=full moon)\n",
    "sm.moonPhase"
   ]
  },
  {
   "cell_type": "code",
   "execution_count": 6,
   "metadata": {
    "collapsed": false
   },
   "outputs": [
    {
     "data": {
      "text/plain": [
       "<matplotlib.text.Text at 0x10e308c10>"
      ]
     },
     "execution_count": 6,
     "metadata": {},
     "output_type": "execute_result"
    },
    {
     "data": {
      "image/png": "[encoded data removed]",
      "text/plain": [
       "<matplotlib.figure.Figure at 0x10b6b8190>"
      ]
     },
     "metadata": {},
     "output_type": "display_data"
    }
   ],
   "source": [
    "# Note, things can get zany if the sun is up\n",
    "sunDown = np.where(sunAlt < np.radians(-12.))\n",
    "filterName = 'g'\n",
    "plt.plot(mjds[sunDown], mags[filterName][sunDown], 'ko')\n",
    "plt.gca().invert_yaxis()\n",
    "plt.xlabel('mjd')\n",
    "plt.ylabel(filterName+' (mags)')"
   ]
  },
  {
   "cell_type": "code",
   "execution_count": null,
   "metadata": {
    "collapsed": false
   },
   "outputs": [],
   "source": []
  },
  {
   "cell_type": "code",
   "execution_count": null,
   "metadata": {
    "collapsed": true
   },
   "outputs": [],
   "source": []
  }
 ],
 "metadata": {
  "kernelspec": {
   "display_name": "Python 2",
   "language": "python",
   "name": "python2"
  },
  "language_info": {
   "codemirror_mode": {
    "name": "ipython",
    "version": 2
   },
   "file_extension": ".py",
   "mimetype": "text/x-python",
   "name": "python",
   "nbconvert_exporter": "python",
   "pygments_lexer": "ipython2",
   "version": "2.7.11"
  }
 },
 "nbformat": 4,
 "nbformat_minor": 0
}
