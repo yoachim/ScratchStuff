{
 "cells": [
  {
   "cell_type": "markdown",
   "metadata": {},
   "source": [
    "To run, need to connect to fatboy:\n",
    " ssh -L 51433:fatboy.phys.washington.edu:1433 gateway.astro.washington.edu\n",
    "\n",
    "If non-astro user, use simsuser@gateway.astro.washington.edu\n",
    "\n",
    "setup sims_catalogs -t $USER -t sims\n",
    "\n",
    "setup sims_catUtils -t $USER -t sims"
   ]
  },
  {
   "cell_type": "code",
   "execution_count": 1,
   "metadata": {
    "collapsed": false
   },
   "outputs": [
    {
     "name": "stderr",
     "output_type": "stream",
     "text": [
      "/Users/yoachim/lsst/DarwinX86/miniconda2/3.19.0.lsst4/lib/python2.7/site-packages/matplotlib/font_manager.py:273: UserWarning: Matplotlib is building the font cache using fc-list. This may take a moment.\n",
      "  warnings.warn('Matplotlib is building the font cache using fc-list. This may take a moment.')\n",
      "/Users/yoachim/gitRepos/sims_catalogs/python/lsst/sims/catalogs/db/dbConnection.py:439: UserWarning: Duplicate object type id 25 specified: \n",
      "Output object ids may not be unique.\n",
      "This may not be a problem if you do not want globally unique id values\n",
      "  'want globally unique id values')\n",
      "/Users/yoachim/gitRepos/sims_catalogs/python/lsst/sims/catalogs/db/dbConnection.py:439: UserWarning: Duplicate object type id 40 specified: \n",
      "Output object ids may not be unique.\n",
      "This may not be a problem if you do not want globally unique id values\n",
      "  'want globally unique id values')\n"
     ]
    }
   ],
   "source": [
    "%matplotlib inline\n",
    "import numpy as np\n",
    "import healpy as hp\n",
    "from astropy import units as u\n",
    "from astropy.coordinates import SkyCoord\n",
    "from astropy.coordinates import ICRS, Galactic\n",
    "from lsst.sims.catalogs.db import CatalogDBObject\n",
    "from lsst.sims.catUtils.baseCatalogModels import *\n",
    "from lsst.sims.catUtils.exampleCatalogDefinitions import *\n",
    "from lsst.sims.utils import ObservationMetaData"
   ]
  },
  {
   "cell_type": "code",
   "execution_count": 2,
   "metadata": {
    "collapsed": true
   },
   "outputs": [],
   "source": [
    "# Parameters we need to set\n",
    "\n",
    "# Magnitudes of gray cloud extinction one should be able to see through\n",
    "max_extinction = 1.0\n",
    "\n",
    "# Precision of the measured extinction\n",
    "extinction_precision = 0.2\n",
    "\n",
    "# Dynamic range of all-sky camera. Min=observed saturation mag. \n",
    "# Max=faint end of catalog (or where Gaussian error no longer true)\n",
    "mag_range = [7, 12]\n",
    "\n",
    "# Angular resolution requirement, diameter\n",
    "ang_resolution = 1. #  Degrees\n",
    "\n",
    "# Time resolution\n",
    "time_resolution = 30. #  Seconds\n",
    "\n",
    "# Seeing requirement\n",
    "\n",
    "# Sky brightness requirement\n",
    "\n",
    "# Airmass requrement\n",
    "airmass_limit = 2.0\n",
    "\n",
    "# Atmospheric extinction\n",
    "kAtm = 0.15\n",
    "\n",
    "# filter to use\n",
    "filtername = 'g'"
   ]
  },
  {
   "cell_type": "code",
   "execution_count": 3,
   "metadata": {
    "collapsed": true
   },
   "outputs": [],
   "source": [
    "# 5-sigma limiting depth of a point source at zenith on a clear night for the camera.\n",
    "m5 = 10."
   ]
  },
  {
   "cell_type": "code",
   "execution_count": 4,
   "metadata": {
    "collapsed": false
   },
   "outputs": [
    {
     "name": "stderr",
     "output_type": "stream",
     "text": [
      "WARNING: AstropyDeprecationWarning: Passing a frame as a positional argument is now deprecated, use the frame= keyword argument instead. [astropy.coordinates.sky_coordinate]\n"
     ]
    }
   ],
   "source": [
    "# Coordinates at the galactic pole\n",
    "c = SkyCoord(Galactic, l=0.*u.degree , b=-90*u.degree)"
   ]
  },
  {
   "cell_type": "code",
   "execution_count": 5,
   "metadata": {
    "collapsed": false
   },
   "outputs": [
    {
     "data": {
      "text/plain": [
       "(12.85947789477605, <Latitude -27.128252414968006 deg>)"
      ]
     },
     "execution_count": 5,
     "metadata": {},
     "output_type": "execute_result"
    }
   ],
   "source": [
    "c.icrs.ra.deg, c.icrs.dec"
   ]
  },
  {
   "cell_type": "code",
   "execution_count": 6,
   "metadata": {
    "collapsed": false
   },
   "outputs": [
    {
     "name": "stderr",
     "output_type": "stream",
     "text": [
      "/Users/yoachim/lsst/DarwinX86/sqlalchemy/1.0.8.lsst3+2/lib/python/SQLAlchemy-1.0.8-py2.7-macosx-10.5-x86_64.egg/sqlalchemy/sql/elements.py:3779: SAWarning: Textual SQL expression 'gmag < 13.300000' should be explicitly declared as text('gmag < 13.300000') (this warning may be suppressed after 10 occurrences)\n",
      "  {\"expr\": util.ellipses_string(element)})\n"
     ]
    }
   ],
   "source": [
    "# Radius to query, in degrees\n",
    "boundLength = ang_resolution/2.\n",
    "\n",
    "colnames = ['raJ2000', 'decJ2000', 'umag', 'gmag', 'rmag', 'imag', 'zmag', 'ymag']\n",
    "constraint = 'gmag < %f' % (np.max(mag_range)+ max_extinction + airmass_limit*kAtm)\n",
    "\n",
    "# dbobj = CatalogDBObject.from_objid('allstars')\n",
    "dbobj = CatalogDBObject.from_objid('brightstars')\n",
    "\n",
    "obs_metadata = ObservationMetaData(boundType='circle',\n",
    "                                   pointingRA=c.icrs.ra.deg,\n",
    "                                   pointingDec=c.icrs.dec.deg,\n",
    "                                   boundLength=boundLength, mjd=5700)\n",
    "\n",
    "t = dbobj.getCatalog('ref_catalog_star', obs_metadata=obs_metadata)\n",
    "\n",
    "stars = t.db_obj.query_columns(colnames=colnames, obs_metadata=obs_metadata,\n",
    "                               constraint=constraint, limit=1e6, chunk_size=None)\n",
    "stars = [chunk for chunk in stars][0]\n"
   ]
  },
  {
   "cell_type": "code",
   "execution_count": 7,
   "metadata": {
    "collapsed": false
   },
   "outputs": [
    {
     "name": "stdout",
     "output_type": "stream",
     "text": [
      "found 69 stars within 0.500000 degrees of the galactic pole\n"
     ]
    }
   ],
   "source": [
    "print 'found %i stars within %f degrees of the galactic pole' % (stars.size, ang_resolution/2.)"
   ]
  },
  {
   "cell_type": "code",
   "execution_count": 8,
   "metadata": {
    "collapsed": false
   },
   "outputs": [
    {
     "name": "stdout",
     "output_type": "stream",
     "text": [
      "Able to measure 14 stars though 1.0 mags of cloud extinction\n"
     ]
    }
   ],
   "source": [
    "observed_mags = stars[filtername+'mag'] + max_extinction + airmass_limit*kAtm\n",
    "good = np.where( (observed_mags > np.min(mag_range)) & (observed_mags < np.max(mag_range)))\n",
    "observed_mags = observed_mags[good]\n",
    "print 'Able to measure %i stars though %.1f mags of cloud extinction' % (observed_mags.size, max_extinction)"
   ]
  },
  {
   "cell_type": "markdown",
   "metadata": {},
   "source": [
    "Note, I'm assuming cloud extinction and atmosphere extinction are the only relevant things, i.e., that the clouds are not adding any additional sky brightness to the background which would also lower the SNR on the stellar photometry."
   ]
  },
  {
   "cell_type": "code",
   "execution_count": 9,
   "metadata": {
    "collapsed": false
   },
   "outputs": [],
   "source": [
    "snr =  5.*10.**(-0.4*(observed_mags-m5))\n",
    "mag_uncertanties = 1./snr\n",
    "# If each star is an independent measure of the zeropoint, the final \n",
    "# SNR on the zeropoint will be the combination of all the individual star SNRs.\n",
    "final_snr = np.sqrt(np.sum(snr**2))"
   ]
  },
  {
   "cell_type": "code",
   "execution_count": 10,
   "metadata": {
    "collapsed": false
   },
   "outputs": [
    {
     "name": "stdout",
     "output_type": "stream",
     "text": [
      "final zeropoint uncertainty = 0.139620 mags\n"
     ]
    }
   ],
   "source": [
    "zp_uncertainty = 1./final_snr\n",
    "print 'final zeropoint uncertainty = %f mags' % zp_uncertainty"
   ]
  },
  {
   "cell_type": "code",
   "execution_count": null,
   "metadata": {
    "collapsed": true
   },
   "outputs": [],
   "source": []
  },
  {
   "cell_type": "code",
   "execution_count": null,
   "metadata": {
    "collapsed": true
   },
   "outputs": [],
   "source": []
  },
  {
   "cell_type": "code",
   "execution_count": null,
   "metadata": {
    "collapsed": true
   },
   "outputs": [],
   "source": []
  }
 ],
 "metadata": {
  "anaconda-cloud": {},
  "kernelspec": {
   "display_name": "Python [default]",
   "language": "python",
   "name": "python2"
  },
  "language_info": {
   "codemirror_mode": {
    "name": "ipython",
    "version": 2
   },
   "file_extension": ".py",
   "mimetype": "text/x-python",
   "name": "python",
   "nbconvert_exporter": "python",
   "pygments_lexer": "ipython2",
   "version": "2.7.12"
  }
 },
 "nbformat": 4,
 "nbformat_minor": 1
}
