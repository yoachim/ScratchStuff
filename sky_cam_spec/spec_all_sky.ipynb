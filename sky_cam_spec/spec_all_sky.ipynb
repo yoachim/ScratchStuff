{
 "cells": [
  {
   "cell_type": "code",
   "execution_count": 6,
   "metadata": {
    "collapsed": false
   },
   "outputs": [],
   "source": [
    "%matplotlib inline\n",
    "import numpy as np\n",
    "import healpy as hp\n",
    "from astropy import units as u\n",
    "from astropy.coordinates import SkyCoord\n",
    "from astropy.coordinates import ICRS, Galactic, FK4, FK5"
   ]
  },
  {
   "cell_type": "code",
   "execution_count": 7,
   "metadata": {
    "collapsed": false
   },
   "outputs": [
    {
     "name": "stderr",
     "output_type": "stream",
     "text": [
      "WARNING: AstropyDeprecationWarning: Passing a frame as a positional argument is now deprecated, use the frame= keyword argument instead. [astropy.coordinates.sky_coordinate]\n"
     ]
    }
   ],
   "source": [
    "# Coordinates at the galactic pole\n",
    "c = SkyCoord(Galactic, l=0.*u.degree , b=90*u.degree)"
   ]
  },
  {
   "cell_type": "code",
   "execution_count": 14,
   "metadata": {
    "collapsed": false
   },
   "outputs": [
    {
     "data": {
      "text/latex": [
       "$192^\\circ51{}^\\prime34.1204{}^{\\prime\\prime}$"
      ],
      "text/plain": [
       "<Longitude 192.85947789477598 deg>"
      ]
     },
     "execution_count": 14,
     "metadata": {},
     "output_type": "execute_result"
    }
   ],
   "source": [
    "c.icrs.ra"
   ]
  },
  {
   "cell_type": "code",
   "execution_count": 16,
   "metadata": {
    "collapsed": false
   },
   "outputs": [],
   "source": [
    "# Parameters we need to set\n",
    "\n",
    "# Magnitudes of gray cloud extinction one should be able to see through\n",
    "max_extinction = 1.0\n",
    "\n",
    "# Precision of the measured extinction\n",
    "extinction_precision = 0.2\n",
    "\n",
    "# Dynamic range of all sky camera\n",
    "mag_range = [7, 12]\n",
    "\n",
    "# Angular resolution requirement, diameter\n",
    "ang_resolution = 3. #  Degrees\n",
    "\n",
    "# Time resolution\n",
    "time_resolution = 30. #  Seconds\n",
    "\n",
    "# Seeing requirement\n",
    "\n",
    "# Sky brightness requirement\n",
    "\n",
    "# Airmass requrement\n",
    "airmass_limit = 2.0\n",
    "\n",
    "# Atmospheric extinction\n",
    "kAtm = 0.15"
   ]
  },
  {
   "cell_type": "code",
   "execution_count": 15,
   "metadata": {
    "collapsed": true
   },
   "outputs": [],
   "source": [
    "# Querry for stars near the galactic pole, in the correct mag range and resolution diameter"
   ]
  },
  {
   "cell_type": "code",
   "execution_count": 17,
   "metadata": {
    "collapsed": true
   },
   "outputs": [],
   "source": [
    "# Zeropoint uncertainty is weighted mean of zeropoints computed from each star.  \n",
    "# Should be able to adjust 5-sigma depth to get to extinction precision required. "
   ]
  },
  {
   "cell_type": "code",
   "execution_count": null,
   "metadata": {
    "collapsed": true
   },
   "outputs": [],
   "source": []
  }
 ],
 "metadata": {
  "anaconda-cloud": {},
  "kernelspec": {
   "display_name": "Python [default]",
   "language": "python",
   "name": "python2"
  },
  "language_info": {
   "codemirror_mode": {
    "name": "ipython",
    "version": 2
   },
   "file_extension": ".py",
   "mimetype": "text/x-python",
   "name": "python",
   "nbconvert_exporter": "python",
   "pygments_lexer": "ipython2",
   "version": "2.7.12"
  }
 },
 "nbformat": 4,
 "nbformat_minor": 1
}
