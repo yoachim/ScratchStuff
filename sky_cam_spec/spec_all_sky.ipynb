{
 "cells": [
  {
   "cell_type": "markdown",
   "metadata": {},
   "source": [
    "To run, need to connect to fatboy:\n",
    " ssh -L 51433:fatboy.phys.washington.edu:1433 gateway.astro.washington.edu\n",
    "\n",
    "If non-astro user, use simsuser@gateway.astro.washington.edu\n"
   ]
  },
  {
   "cell_type": "code",
   "execution_count": 1,
   "metadata": {
    "collapsed": false
   },
   "outputs": [
    {
     "name": "stderr",
     "output_type": "stream",
     "text": [
      "/Users/yoachim/lsst/DarwinX86/miniconda2/3.19.0.lsst4/lib/python2.7/site-packages/matplotlib/font_manager.py:273: UserWarning: Matplotlib is building the font cache using fc-list. This may take a moment.\n",
      "  warnings.warn('Matplotlib is building the font cache using fc-list. This may take a moment.')\n",
      "/Users/yoachim/gitRepos/sims_catalogs/python/lsst/sims/catalogs/db/dbConnection.py:439: UserWarning: Duplicate object type id 25 specified: \n",
      "Output object ids may not be unique.\n",
      "This may not be a problem if you do not want globally unique id values\n",
      "  'want globally unique id values')\n",
      "/Users/yoachim/gitRepos/sims_catalogs/python/lsst/sims/catalogs/db/dbConnection.py:439: UserWarning: Duplicate object type id 40 specified: \n",
      "Output object ids may not be unique.\n",
      "This may not be a problem if you do not want globally unique id values\n",
      "  'want globally unique id values')\n"
     ]
    }
   ],
   "source": [
    "%matplotlib inline\n",
    "import numpy as np\n",
    "import healpy as hp\n",
    "from astropy import units as u\n",
    "from astropy.coordinates import SkyCoord\n",
    "from astropy.coordinates import ICRS, Galactic\n",
    "from lsst.sims.catalogs.db import CatalogDBObject\n",
    "from lsst.sims.catUtils.baseCatalogModels import *\n",
    "from lsst.sims.catUtils.exampleCatalogDefinitions import *\n",
    "from lsst.sims.utils import ObservationMetaData"
   ]
  },
  {
   "cell_type": "code",
   "execution_count": 2,
   "metadata": {
    "collapsed": false
   },
   "outputs": [
    {
     "name": "stderr",
     "output_type": "stream",
     "text": [
      "WARNING: AstropyDeprecationWarning: Passing a frame as a positional argument is now deprecated, use the frame= keyword argument instead. [astropy.coordinates.sky_coordinate]\n"
     ]
    }
   ],
   "source": [
    "# Coordinates at the galactic pole\n",
    "c = SkyCoord(Galactic, l=0.*u.degree , b=-90*u.degree)"
   ]
  },
  {
   "cell_type": "code",
   "execution_count": 3,
   "metadata": {
    "collapsed": false
   },
   "outputs": [
    {
     "data": {
      "text/plain": [
       "(12.85947789477605, <Latitude -27.128252414968006 deg>)"
      ]
     },
     "execution_count": 3,
     "metadata": {},
     "output_type": "execute_result"
    }
   ],
   "source": [
    "c.icrs.ra.deg, c.icrs.dec"
   ]
  },
  {
   "cell_type": "code",
   "execution_count": 4,
   "metadata": {
    "collapsed": false
   },
   "outputs": [
    {
     "name": "stderr",
     "output_type": "stream",
     "text": [
      "/Users/yoachim/lsst/DarwinX86/sqlalchemy/1.0.8.lsst3+2/lib/python/SQLAlchemy-1.0.8-py2.7-macosx-10.5-x86_64.egg/sqlalchemy/sql/elements.py:3779: SAWarning: Textual SQL expression 'rmag < 16' should be explicitly declared as text('rmag < 16') (this warning may be suppressed after 10 occurrences)\n",
      "  {\"expr\": util.ellipses_string(element)})\n"
     ]
    }
   ],
   "source": [
    "# Radius to query, in degrees\n",
    "boundLength = 3.5/2.\n",
    "\n",
    "colnames = ['raJ2000', 'decJ2000', 'umag', 'gmag', 'rmag', 'imag', 'zmag', 'ymag']\n",
    "constraint = 'rmag < 16'\n",
    "\n",
    "# dbobj = CatalogDBObject.from_objid('allstars')\n",
    "dbobj = CatalogDBObject.from_objid('brightstars')\n",
    "\n",
    "obs_metadata = ObservationMetaData(boundType='circle',\n",
    "                                   pointingRA=c.icrs.ra.deg,\n",
    "                                   pointingDec=c.icrs.dec.deg,\n",
    "                                   boundLength=boundLength, mjd=5700)\n",
    "\n",
    "t = dbobj.getCatalog('ref_catalog_star', obs_metadata=obs_metadata)\n",
    "\n",
    "stars = t.db_obj.query_columns(colnames=colnames, obs_metadata=obs_metadata,\n",
    "                               constraint=constraint, limit=1e6, chunk_size=None)\n",
    "stars = [chunk for chunk in stars][0]\n"
   ]
  },
  {
   "cell_type": "code",
   "execution_count": 5,
   "metadata": {
    "collapsed": false
   },
   "outputs": [
    {
     "data": {
      "text/plain": [
       "rec.array([ (225426217, 0.2089296122983494, -0.48961108895629474, 17.77929, 15.12636, 13.90252, 13.44415, 13.22605, 13.21823),\n",
       " (225426206, 0.2072614091460007, -0.489929890797464, 13.76424, 11.50369, 10.46925, 10.06904, 9.892447, 9.838599),\n",
       " (225426212, 0.20805576084846086, -0.4890868793154583, 18.36475, 15.68047, 14.44254, 13.99018, 13.77389, 13.78084),\n",
       " ...,\n",
       " (242655789, 0.21582036417144074, -0.44799139165458485, 16.94425, 14.36904, 13.17815, 12.71532, 12.49625, 12.46306),\n",
       " (242655779, 0.21483554468771043, -0.44798240320893706, 17.17073, 14.5457, 13.33491, 12.87094, 12.65116, 12.62986),\n",
       " (242655778, 0.2148122619954888, -0.4481498500973734, 16.94808, 14.42564, 13.2607, 12.8041, 12.59009, 12.54844)], \n",
       "          dtype=[('simobjid', '<i8'), ('raJ2000', '<f8'), ('decJ2000', '<f8'), ('umag', '<f8'), ('gmag', '<f8'), ('rmag', '<f8'), ('imag', '<f8'), ('zmag', '<f8'), ('ymag', '<f8')])"
      ]
     },
     "execution_count": 5,
     "metadata": {},
     "output_type": "execute_result"
    }
   ],
   "source": [
    "stars"
   ]
  },
  {
   "cell_type": "code",
   "execution_count": null,
   "metadata": {
    "collapsed": false
   },
   "outputs": [],
   "source": []
  },
  {
   "cell_type": "code",
   "execution_count": 16,
   "metadata": {
    "collapsed": false
   },
   "outputs": [],
   "source": [
    "# Parameters we need to set\n",
    "\n",
    "# Magnitudes of gray cloud extinction one should be able to see through\n",
    "max_extinction = 1.0\n",
    "\n",
    "# Precision of the measured extinction\n",
    "extinction_precision = 0.2\n",
    "\n",
    "# Dynamic range of all sky camera\n",
    "mag_range = [7, 12]\n",
    "\n",
    "# Angular resolution requirement, diameter\n",
    "ang_resolution = 3. #  Degrees\n",
    "\n",
    "# Time resolution\n",
    "time_resolution = 30. #  Seconds\n",
    "\n",
    "# Seeing requirement\n",
    "\n",
    "# Sky brightness requirement\n",
    "\n",
    "# Airmass requrement\n",
    "airmass_limit = 2.0\n",
    "\n",
    "# Atmospheric extinction\n",
    "kAtm = 0.15"
   ]
  },
  {
   "cell_type": "code",
   "execution_count": 15,
   "metadata": {
    "collapsed": true
   },
   "outputs": [],
   "source": []
  },
  {
   "cell_type": "code",
   "execution_count": 17,
   "metadata": {
    "collapsed": true
   },
   "outputs": [],
   "source": [
    "# Zeropoint uncertainty is weighted mean of zeropoints computed from each star.  \n",
    "# Should be able to adjust 5-sigma depth to get to extinction precision required. "
   ]
  },
  {
   "cell_type": "code",
   "execution_count": null,
   "metadata": {
    "collapsed": true
   },
   "outputs": [],
   "source": []
  }
 ],
 "metadata": {
  "anaconda-cloud": {},
  "kernelspec": {
   "display_name": "Python [default]",
   "language": "python",
   "name": "python2"
  },
  "language_info": {
   "codemirror_mode": {
    "name": "ipython",
    "version": 2
   },
   "file_extension": ".py",
   "mimetype": "text/x-python",
   "name": "python",
   "nbconvert_exporter": "python",
   "pygments_lexer": "ipython2",
   "version": "2.7.12"
  }
 },
 "nbformat": 4,
 "nbformat_minor": 1
}
