{
 "cells": [
  {
   "cell_type": "markdown",
   "metadata": {},
   "source": [
    "Let's check the sky brightness as a function of just airmass"
   ]
  },
  {
   "cell_type": "code",
   "execution_count": 13,
   "metadata": {
    "collapsed": true
   },
   "outputs": [],
   "source": [
    "%matplotlib inline\n",
    "import matplotlib.pylab as plt\n",
    "import numpy as np\n",
    "import lsst.sims.skybrightness as sb"
   ]
  },
  {
   "cell_type": "code",
   "execution_count": 16,
   "metadata": {
    "collapsed": false
   },
   "outputs": [],
   "source": [
    "sm = sb.SkyModel(observatory='LSST', mags=True, moon=False, zodiacal=False, twilight=False)\n",
    "alt = np.arange(30.,100.,10.)\n",
    "az = alt*0\n"
   ]
  },
  {
   "cell_type": "code",
   "execution_count": 17,
   "metadata": {
    "collapsed": false
   },
   "outputs": [],
   "source": [
    "sm.setRaDecMjd(az,alt,59000., degrees=True, azAlt=True)"
   ]
  },
  {
   "cell_type": "code",
   "execution_count": 18,
   "metadata": {
    "collapsed": true
   },
   "outputs": [],
   "source": [
    "mags = sm.returnMags()"
   ]
  },
  {
   "cell_type": "code",
   "execution_count": 19,
   "metadata": {
    "collapsed": false
   },
   "outputs": [
    {
     "data": {
      "text/plain": [
       "array([[ 22.76243182,  22.37836838,  21.00045375,  19.89260335,\n",
       "         18.79729941,  17.451283  ],\n",
       "       [ 22.8032847 ,  22.54098398,  21.20151467,  20.12281378,\n",
       "         19.03418803,  17.68584961],\n",
       "       [ 22.87150032,  22.66972031,  21.35345532,  20.29054015,\n",
       "         19.20608044,  17.85596523],\n",
       "       [ 22.93708369,  22.76675614,  21.4660636 ,  20.41296243,\n",
       "         19.33052299,  17.97921943],\n",
       "       [ 22.9864074 ,  22.83287267,  21.54204841,  20.49450416,\n",
       "         19.41368601,  18.06154754],\n",
       "       [ 23.01613902,  22.87095064,  21.58571702,  20.54116219,\n",
       "         19.46123402,  18.10862309],\n",
       "       [ 23.025541  ,  22.88298014,  21.59953481,  20.55592647,\n",
       "         19.47627991,  18.12351947]])"
      ]
     },
     "execution_count": 19,
     "metadata": {},
     "output_type": "execute_result"
    }
   ],
   "source": [
    "mags"
   ]
  },
  {
   "cell_type": "code",
   "execution_count": 20,
   "metadata": {
    "collapsed": false
   },
   "outputs": [
    {
     "data": {
      "text/plain": [
       "array([ 2.        ,  1.55572383,  1.30540729,  1.15470054,  1.06417777,\n",
       "        1.01542661,  1.        ])"
      ]
     },
     "execution_count": 20,
     "metadata": {},
     "output_type": "execute_result"
    }
   ],
   "source": [
    "sm.airmass"
   ]
  },
  {
   "cell_type": "code",
   "execution_count": 21,
   "metadata": {
    "collapsed": false
   },
   "outputs": [
    {
     "data": {
      "text/plain": [
       "[<matplotlib.lines.Line2D at 0x10d6d5610>]"
      ]
     },
     "execution_count": 21,
     "metadata": {},
     "output_type": "execute_result"
    },
    {
     "data": {
      "image/png": "[encoded data removed]",
      "text/plain": [
       "<matplotlib.figure.Figure at 0x10d451fd0>"
      ]
     },
     "metadata": {},
     "output_type": "display_data"
    }
   ],
   "source": [
    "plt.plot(sm.airmass, mags[:,1])"
   ]
  },
  {
   "cell_type": "code",
   "execution_count": 24,
   "metadata": {
    "collapsed": false
   },
   "outputs": [],
   "source": [
    "filterNames = ['u','g','r','i','z','y']\n",
    "fits = [np.polyfit(sm.airmass,mags[:,i], 1) for i,ack in enumerate(filterNames)]"
   ]
  },
  {
   "cell_type": "code",
   "execution_count": 25,
   "metadata": {
    "collapsed": false
   },
   "outputs": [
    {
     "data": {
      "text/plain": [
       "[array([ -0.27093459,  23.26666517]),\n",
       " array([ -0.51114987,  23.37025188]),\n",
       " array([ -0.60579785,  22.17982617]),\n",
       " array([ -0.66999411,  21.20062872]),\n",
       " array([ -0.68561071,  20.13645988]),\n",
       " array([ -0.678793  ,  18.77713224])]"
      ]
     },
     "execution_count": 25,
     "metadata": {},
     "output_type": "execute_result"
    }
   ],
   "source": [
    "fits"
   ]
  },
  {
   "cell_type": "code",
   "execution_count": null,
   "metadata": {
    "collapsed": true
   },
   "outputs": [],
   "source": []
  }
 ],
 "metadata": {
  "kernelspec": {
   "display_name": "Python 2",
   "language": "python",
   "name": "python2"
  },
  "language_info": {
   "codemirror_mode": {
    "name": "ipython",
    "version": 2
   },
   "file_extension": ".py",
   "mimetype": "text/x-python",
   "name": "python",
   "nbconvert_exporter": "python",
   "pygments_lexer": "ipython2",
   "version": "2.7.11"
  }
 },
 "nbformat": 4,
 "nbformat_minor": 0
}
