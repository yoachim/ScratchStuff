{
 "cells": [
  {
   "cell_type": "code",
   "execution_count": 7,
   "metadata": {
    "collapsed": false
   },
   "outputs": [],
   "source": [
    "%matplotlib inline\n",
    "import numpy as np\n",
    "import lsst.sims.utils as utils\n",
    "import healpy as hp\n",
    "from astropy.coordinates import SkyCoord, EarthLocation, AltAz\n",
    "from astropy import units as u\n",
    "from astropy.time import Time\n",
    "import matplotlib.pylab as plt"
   ]
  },
  {
   "cell_type": "code",
   "execution_count": 2,
   "metadata": {
    "collapsed": true
   },
   "outputs": [],
   "source": [
    "# Create a simple ra,dec map and make versions in galactic and ecliptic coords too\n",
    "nside = 256\n",
    "ra, dec = utils._hpid2RaDec(nside, np.arange(hp.nside2npix(nside)))\n",
    "coord = SkyCoord(ra=ra*u.rad,dec=dec*u.rad)\n",
    "g_long, g_lat = coord.galactic.l.radian, coord.galactic.b.radian #utils._galacticFromEquatorial(ra,dec)\n",
    "eclip_long, eclip_lat = coord.barycentrictrueecliptic.lon.radian, coord.barycentrictrueecliptic.lat.radian"
   ]
  },
  {
   "cell_type": "code",
   "execution_count": 3,
   "metadata": {
    "collapsed": false
   },
   "outputs": [
    {
     "name": "stdout",
     "output_type": "stream",
     "text": [
      "resolution = 0.229032 degrees, npixels = 786432\n"
     ]
    }
   ],
   "source": [
    "print 'resolution = %f degrees, npixels = %i' % (hp.nside2resol(nside,arcmin=True)/60., hp.nside2npix(nside))"
   ]
  },
  {
   "cell_type": "code",
   "execution_count": 4,
   "metadata": {
    "collapsed": true
   },
   "outputs": [],
   "source": [
    "# Set borders of different regions and weights\n",
    "galactic_lat_max = 10.\n",
    "main_dec = 0\n",
    "main_weight = 1.\n",
    "\n",
    "south_dec = -60\n",
    "south_weight = 0.4\n",
    "\n",
    "nes_dec = 0.\n",
    "nes_eclip = 15.\n",
    "nes_weight = 0.5\n",
    "\n",
    "gal_lat = 10.\n",
    "gal_long_end1 = 70.\n",
    "gal_long_end2 = 270.\n",
    "gal_weight = 0.2"
   ]
  },
  {
   "cell_type": "code",
   "execution_count": 15,
   "metadata": {
    "collapsed": false
   },
   "outputs": [],
   "source": [
    "# Make the target region map\n",
    "regionMap = np.zeros(hp.nside2npix(nside))+hp.UNSEEN\n",
    "# Set everything below dec <= 0 to be one\n",
    "regionMap[np.where(dec <= np.radians(main_dec))] = main_weight\n",
    "# Set the South Region \n",
    "regionMap[np.where(dec < np.radians(south_dec))] = south_weight\n",
    "# Set the NES\n",
    "regionMap[np.where((dec > np.radians(nes_dec)) & (eclip_lat < np.radians(nes_eclip)))] = nes_weight\n",
    "# Set the Galactic Plane\n",
    "regionMap[np.where( (np.abs(g_lat) < np.radians(gal_lat)) & (g_long < np.radians(gal_long_end1)) )] = gal_weight\n",
    "regionMap[np.where( (np.abs(g_lat) < np.radians(gal_lat)) & (g_long > np.radians(gal_long_end2)) )] = gal_weight\n",
    "\n",
    "# find the healpixel closest to M67\n",
    "distances = np.degrees(utils.haversine(ra, dec, np.radians(9./24.*360.), np.radians(12.)))\n",
    "good = np.where(distances < 3.5)\n",
    "regionMap[good] = 0.9"
   ]
  },
  {
   "cell_type": "code",
   "execution_count": 16,
   "metadata": {
    "collapsed": false
   },
   "outputs": [
    {
     "data": {
      "image/png": "[encoded data removed]",
      "text/plain": [
       "<matplotlib.figure.Figure at 0x1134fd450>"
      ]
     },
     "metadata": {},
     "output_type": "display_data"
    }
   ],
   "source": [
    "# Normalize and display\n",
    "regionMap = regionMap/np.median(regionMap[np.where(regionMap != hp.UNSEEN)])\n",
    "hp.mollview(regionMap, title='Target Observing Fractions')"
   ]
  },
  {
   "cell_type": "code",
   "execution_count": null,
   "metadata": {
    "collapsed": false
   },
   "outputs": [],
   "source": []
  },
  {
   "cell_type": "code",
   "execution_count": null,
   "metadata": {
    "collapsed": true
   },
   "outputs": [],
   "source": []
  }
 ],
 "metadata": {
  "kernelspec": {
   "display_name": "Python 2",
   "language": "python",
   "name": "python2"
  },
  "language_info": {
   "codemirror_mode": {
    "name": "ipython",
    "version": 2
   },
   "file_extension": ".py",
   "mimetype": "text/x-python",
   "name": "python",
   "nbconvert_exporter": "python",
   "pygments_lexer": "ipython2",
   "version": "2.7.11"
  }
 },
 "nbformat": 4,
 "nbformat_minor": 0
}
