{
 "cells": [
  {
   "cell_type": "code",
   "execution_count": 1,
   "metadata": {
    "collapsed": false
   },
   "outputs": [],
   "source": [
    "%matplotlib inline\n",
    "import numpy as np\n",
    "import lsst.sims.utils as utils\n",
    "import healpy as hp\n",
    "from astropy.coordinates import SkyCoord\n",
    "from astropy import units as u"
   ]
  },
  {
   "cell_type": "code",
   "execution_count": 6,
   "metadata": {
    "collapsed": false
   },
   "outputs": [],
   "source": [
    "# Create a simple map of ones\n",
    "nside = 256\n",
    "ra, dec = utils.hpid2RaDec(nside, np.arange(hp.nside2npix(nside)))\n",
    "coord = SkyCoord(ra=ra*u.rad,dec=dec*u.rad)\n",
    "g_long, g_lat = coord.galactic.l.radian, coord.galactic.b.radian #utils._galacticFromEquatorial(ra,dec)\n",
    "eclip_long, eclip_lat = coord.barycentrictrueecliptic.lon.radian, coord.barycentrictrueecliptic.lat.radian"
   ]
  },
  {
   "cell_type": "code",
   "execution_count": 7,
   "metadata": {
    "collapsed": true
   },
   "outputs": [],
   "source": [
    "galactic_lat_max = 10.\n",
    "main_dec = 0\n",
    "main_weight = 1.\n",
    "\n",
    "south_dec = -60\n",
    "south_weight = 0.4\n",
    "\n",
    "nes_dec = 0.\n",
    "nes_eclip = 15.\n",
    "nes_weight = 0.5\n",
    "\n",
    "gal_lat = 10.\n",
    "gal_long_end1 = 70.\n",
    "gal_long_end2 = 270.\n",
    "gal_weight = 0.2"
   ]
  },
  {
   "cell_type": "code",
   "execution_count": 8,
   "metadata": {
    "collapsed": false
   },
   "outputs": [],
   "source": [
    "regionMap = np.zeros(hp.nside2npix(nside))+hp.UNSEEN\n",
    "# Set everything below dec <= 0 to be one\n",
    "regionMap[np.where(dec <= np.radians(main_dec))] = main_weight\n",
    "# Set the South Region \n",
    "regionMap[np.where(dec < np.radians(south_dec))] = south_weight\n",
    "# Set the NES\n",
    "regionMap[np.where((dec > np.radians(nes_dec)) & (eclip_lat < np.radians(nes_eclip)))] = nes_weight\n",
    "# Set the Galactic Plane\n",
    "regionMap[np.where( (np.abs(g_lat) < np.radians(gal_lat)) & (g_long < np.radians(gal_long_end1)) )] = gal_weight\n",
    "regionMap[np.where( (np.abs(g_lat) < np.radians(gal_lat)) & (g_long > np.radians(gal_long_end2)) )] = gal_weight"
   ]
  },
  {
   "cell_type": "code",
   "execution_count": 9,
   "metadata": {
    "collapsed": false
   },
   "outputs": [
    {
     "data": {
      "image/png": "[encoded data removed]",
      "text/plain": [
       "<matplotlib.figure.Figure at 0x10ddbd5d0>"
      ]
     },
     "metadata": {},
     "output_type": "display_data"
    }
   ],
   "source": [
    "hp.mollview(regionMap)"
   ]
  },
  {
   "cell_type": "code",
   "execution_count": 10,
   "metadata": {
    "collapsed": false
   },
   "outputs": [
    {
     "data": {
      "text/plain": [
       "786432"
      ]
     },
     "execution_count": 10,
     "metadata": {},
     "output_type": "execute_result"
    }
   ],
   "source": [
    "regionMap.size"
   ]
  },
  {
   "cell_type": "code",
   "execution_count": null,
   "metadata": {
    "collapsed": true
   },
   "outputs": [],
   "source": []
  }
 ],
 "metadata": {
  "kernelspec": {
   "display_name": "Python 2",
   "language": "python",
   "name": "python2"
  },
  "language_info": {
   "codemirror_mode": {
    "name": "ipython",
    "version": 2
   },
   "file_extension": ".py",
   "mimetype": "text/x-python",
   "name": "python",
   "nbconvert_exporter": "python",
   "pygments_lexer": "ipython2",
   "version": "2.7.11"
  }
 },
 "nbformat": 4,
 "nbformat_minor": 0
}
