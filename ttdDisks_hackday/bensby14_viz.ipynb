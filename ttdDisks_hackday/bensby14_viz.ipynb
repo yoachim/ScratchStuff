{
 "cells": [
  {
   "cell_type": "code",
   "execution_count": 1,
   "metadata": {
    "collapsed": false
   },
   "outputs": [
    {
     "name": "stderr",
     "output_type": "stream",
     "text": [
      "/Users/yoachim/lsst/DarwinX86/miniconda2/3.19.0.lsst4/lib/python2.7/site-packages/matplotlib/font_manager.py:273: UserWarning: Matplotlib is building the font cache using fc-list. This may take a moment.\n",
      "  warnings.warn('Matplotlib is building the font cache using fc-list. This may take a moment.')\n"
     ]
    }
   ],
   "source": [
    "%matplotlib inline\n",
    "import matplotlib.pylab as plt\n",
    "import numpy as np\n",
    "from astropy.io import fits"
   ]
  },
  {
   "cell_type": "code",
   "execution_count": 8,
   "metadata": {
    "collapsed": false
   },
   "outputs": [],
   "source": [
    "hdulist = fits.open('bensby_14_binary.fit')"
   ]
  },
  {
   "cell_type": "code",
   "execution_count": 9,
   "metadata": {
    "collapsed": false
   },
   "outputs": [
    {
     "data": {
      "text/plain": [
       "(80, 1, 5856, 47, 4.0999999, 0.07, 1.12, 0.079999998, 6.9699998, 6.9699998, 0.88999999, 0.87, 0.94, 11.8, 9.6999998, 12.4, -0.58999997, 0.039999999, 0.41999999, 0.11, 0.079999998, 0.029999999, 0.28999999, 0.039999999, 0.25, 0.039999999, 0.16, 0.029999999, 0.17, 0.039999999, 0.2, 0.059999999, -0.039999999, 0.059999999, -0.02, 0.039999999, 0.13, 0.059999999, -0.13, 0.12, -0.090000004, 0.090000004, -0.38999999, 0.050000001, 0.22, 0.079999998, -0.12, 0.07, 0.090000004, 0.079999998, 0.050000001, 0.07, -0.039999999, 0.050000001, -0.029999999, 0.090000004, -0.23999999, 0.029999999, -0.22, 0.050000001, -0.2, 0.059999999, -0.07, 0.059999999, -0.33000001, 0.07, -0.28999999, 0.079999998, 209, 25, 3, 4, 6, 7, 30, 18, 17, 12, 8, 6, 49, 3, 6, 3, 0.050000001, 0.059999999, 0.0099999998, 0.039999999, 0.050000001, 0.079999998, 0.039999999, 0.090000004, 0.050000001, 0.079999998, 0.1, 0.059999999, 0.07, 0.07, 0.059999999, 0.1, 13.68, 1.22, 0.073200002, 82.75, -70.647003, -102, -80, -18, 3.6500001, 10.04, 0.25, 0.46630001, 1218, 0.9443, 63.299999, 674.0, 0.64200002, 0.0101, 5863, 4.1300001, 5848, 4.0999999, 6.96, 6.96, 'Simbad', 0.24282666666666664, -11.823740555555554)"
      ]
     },
     "execution_count": 9,
     "metadata": {},
     "output_type": "execute_result"
    }
   ],
   "source": [
    "tbdata = hdulist[1].data\n",
    "tbdata[0]"
   ]
  },
  {
   "cell_type": "code",
   "execution_count": null,
   "metadata": {
    "collapsed": true
   },
   "outputs": [],
   "source": []
  }
 ],
 "metadata": {
  "anaconda-cloud": {},
  "kernelspec": {
   "display_name": "Python [conda root]",
   "language": "python",
   "name": "conda-root-py"
  },
  "language_info": {
   "codemirror_mode": {
    "name": "ipython",
    "version": 2
   },
   "file_extension": ".py",
   "mimetype": "text/x-python",
   "name": "python",
   "nbconvert_exporter": "python",
   "pygments_lexer": "ipython2",
   "version": "2.7.12"
  }
 },
 "nbformat": 4,
 "nbformat_minor": 2
}
