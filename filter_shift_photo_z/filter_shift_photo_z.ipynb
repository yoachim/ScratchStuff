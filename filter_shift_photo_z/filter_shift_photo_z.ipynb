{
 "cells": [
  {
   "cell_type": "markdown",
   "metadata": {},
   "source": [
    "A notebook to sketch out how one could use the filter bandpass change in LSST to effectively make a narrow band survey and do very acurate photo-z on emission line galaxies\n",
    "\n",
    "things to do:\n",
    "1. Download 2-3 example galaxy spectra from SDSS (spiral, elliptical, star burst). Note the mag and fibermag values.\n",
    "2. Load up the canonical LSST filter (I dunno, r?), and then offset it by a small amount that is close to the expected amount.\n",
    "3. plot $g-r$ and $r_{inner}-r_{outer}$ for the galaxies as a function of redshift.\n",
    "4. Use the camera functionality on the slicer to make maps of co-added depth using just the inner and outer chips to show that the coverage and depth are pretty good.  Maybe also total exposure time and/or nvisits just to be clear that it'll be good and deep.\n",
    "5. Presumably, there is some cool cosmology to be done with all-sky BAO or something with a super accurate galaxy map in a narrow redshift slice?\n",
    "5. Point out this is an ideal level 3 data product. Make a crazy pitch that LSST could make 10A shifts in the filter set every year and do a sequence of narrow band surveys! While making an all-sky image sounds intensive, it's essentially just increasing the catalog size as if there was 1 more exposure, so it would increase the total LSST catalog by ~0.1%"
   ]
  },
  {
   "cell_type": "code",
   "execution_count": 6,
   "metadata": {
    "collapsed": false
   },
   "outputs": [
    {
     "name": "stdout",
     "output_type": "stream",
     "text": [
      "Hb [-0.17712405  0.07385312  0.42151821  0.68278132  0.89672907  0.950216\n",
      "  1.18062127]\n",
      "OIII [-0.20111843  0.04254044  0.3800679   0.6337128   0.84142201  0.89334931\n",
      "  1.11703615]\n",
      "Ha [-0.39052263 -0.20463203  0.05287216  0.24638123  0.40484535  0.44446137\n",
      "  0.61511504]\n",
      "OII [ 0.07324926  0.40059029  0.8540381   1.19479474  1.47383955  1.54360075\n",
      "  1.84411054]\n"
     ]
    }
   ],
   "source": [
    "import numpy as np\n",
    "filter_edges= np.array([400., 522., 691., 818., 922., 948., 1060.])\n",
    "bright_lines = {'Ha':656.3, 'OIII':500.7, 'Hb':486.1, 'OII':372.7}\n",
    "for line in bright_lines:\n",
    "    print line, (filter_edges-bright_lines[line])/bright_lines[line]"
   ]
  },
  {
   "cell_type": "markdown",
   "metadata": {},
   "source": [
    "wow, so that OII line could be pretty awesome for mapping the z=1 structure.\n",
    "\n",
    "Some possible DR9 galaxies:\n",
    "1237668588650758284 elliptical\n",
    "1237664853653389591 starburst\n",
    "1237665429174485195 starforming\n",
    "\n",
    "-- This query does a table JOIN between the imaging (PhotoObj) and spectra\n",
    "-- (SpecObj) tables and includes the necessary columns in the SELECT to upload\n",
    "-- the results to the SAS (Science Archive Server) for FITS file retrieval.\n",
    "SELECT TOP 50 s.plate,s.mjd,s.fiberid, s.SpecObjId\n",
    "FROM BESTDR9..SpecObj as s\n",
    "WHERE  s.z > .07 AND s.zWarning = 0 AND s.z < .08 AND (s.primTarget & (dbo.fPrimTarget('GALAXY_RED')) > 0) AND s.class = 'GALAXY' and s.subclass = 'STARBURST'\n",
    "\n",
    "SELECT TOP 50 s.plate,s.mjd,s.fiberid, s.SpecObjId\n",
    "FROM BESTDR9..SpecObj as s, BESTDR9..PhotoObj as p\n",
    "WHERE  s.z > .07 AND s.zWarning = 0 AND s.z < .08 AND s.class = 'GALAXY' and s.subclass = 'STARFORMING'\n",
    "and p.objid = s.bestobjid\n",
    "and p.r < 16"
   ]
  },
  {
   "cell_type": "code",
   "execution_count": 19,
   "metadata": {
    "collapsed": false
   },
   "outputs": [],
   "source": [
    "%matplotlib inline\n",
    "import numpy as np\n",
    "import matplotlib.pylab as plt\n",
    "from astropy.io import fits\n",
    "from lsst.sims.photUtils import Sed, Bandpass\n",
    "import os"
   ]
  },
  {
   "cell_type": "code",
   "execution_count": 23,
   "metadata": {
    "collapsed": false
   },
   "outputs": [],
   "source": [
    "# Should read redshift from header and un-shift all the spectra to start\n",
    "files = {'starburst':'spec-1850-53786-0466.fits', 'spiral':'spec-2143-54184-0503.fits','elliptical':'spec-2599-54234-0283.fits'}\n",
    "galaxies = {}\n",
    "for key in files.keys():\n",
    "    hdul = fits.open(files[key])\n",
    "    flux = hdul[1].data['flux'].copy()\n",
    "    wave = 10.**hdul[1].data['loglam'].copy()/10.\n",
    "    galaxies[key] = Sed(wavelen=wave, flambda=flux*1e-16)\n",
    "    hdul.close()\n"
   ]
  },
  {
   "cell_type": "code",
   "execution_count": 24,
   "metadata": {
    "collapsed": false
   },
   "outputs": [
    {
     "data": {
      "text/plain": [
       "[<matplotlib.lines.Line2D at 0x11142efd0>]"
      ]
     },
     "execution_count": 24,
     "metadata": {},
     "output_type": "execute_result"
    },
    {
     "data": {
      "image/png": "[encoded data removed]",
      "text/plain": [
       "<matplotlib.figure.Figure at 0x111074590>"
      ]
     },
     "metadata": {},
     "output_type": "display_data"
    }
   ],
   "source": [
    "plt.plot(galaxies['spiral'].wavelen, galaxies['spiral'].flambda)"
   ]
  },
  {
   "cell_type": "code",
   "execution_count": 52,
   "metadata": {
    "collapsed": false
   },
   "outputs": [],
   "source": [
    "throughPath = os.getenv('LSST_THROUGHPUTS_BASELINE')\n",
    "keys = ['u','g','r','i','z','y']\n",
    "filters = {}\n",
    "for filtername in keys:\n",
    "    bp = np.loadtxt(os.path.join(throughPath, 'filter_'+filtername+'.dat'),\n",
    "                    dtype=zip(['wave','trans'],[float]*2 ))\n",
    "    good = np.where(bp['trans'] > 1e-3)\n",
    "    bp = bp[good]\n",
    "    tempB = Bandpass()\n",
    "    tempB.setBandpass(bp['wave'],bp['trans'])\n",
    "    filters[filtername] = tempB"
   ]
  },
  {
   "cell_type": "code",
   "execution_count": 53,
   "metadata": {
    "collapsed": false
   },
   "outputs": [
    {
     "data": {
      "text/plain": [
       "16.891757532114166"
      ]
     },
     "execution_count": 53,
     "metadata": {},
     "output_type": "execute_result"
    }
   ],
   "source": [
    "galaxies['spiral'].calcMag(filters['i'])"
   ]
  },
  {
   "cell_type": "code",
   "execution_count": 47,
   "metadata": {
    "collapsed": false
   },
   "outputs": [
    {
     "data": {
      "text/plain": [
       "array([ 385. ,  385.1,  385.2, ...,  899.8,  899.9,  900. ])"
      ]
     },
     "execution_count": 47,
     "metadata": {},
     "output_type": "execute_result"
    }
   ],
   "source": [
    "# Need array of galaxy x filter x redshift.  Loop over redshifts, "
   ]
  },
  {
   "cell_type": "code",
   "execution_count": null,
   "metadata": {
    "collapsed": true
   },
   "outputs": [],
   "source": []
  }
 ],
 "metadata": {
  "kernelspec": {
   "display_name": "Python 2",
   "language": "python",
   "name": "python2"
  },
  "language_info": {
   "codemirror_mode": {
    "name": "ipython",
    "version": 2
   },
   "file_extension": ".py",
   "mimetype": "text/x-python",
   "name": "python",
   "nbconvert_exporter": "python",
   "pygments_lexer": "ipython2",
   "version": "2.7.11"
  }
 },
 "nbformat": 4,
 "nbformat_minor": 0
}
