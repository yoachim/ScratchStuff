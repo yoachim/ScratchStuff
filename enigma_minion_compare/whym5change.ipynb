{
 "cells": [
  {
   "cell_type": "code",
   "execution_count": 1,
   "metadata": {
    "collapsed": false
   },
   "outputs": [
    {
     "name": "stderr",
     "output_type": "stream",
     "text": [
      "/Users/yoachim/lsst/DarwinX86/anaconda/2.2.0/lib/python2.7/site-packages/matplotlib/font_manager.py:273: UserWarning: Matplotlib is building the font cache using fc-list. This may take a moment.\n",
      "  warnings.warn('Matplotlib is building the font cache using fc-list. This may take a moment.')\n"
     ]
    }
   ],
   "source": [
    "import matplotlib.pyplot as plt\n",
    "%matplotlib inline\n",
    "import lsst.sims.maf.db as db\n",
    "import lsst.sims.maf.metrics as metrics\n",
    "import lsst.sims.maf.slicers as slicers\n",
    "import lsst.sims.maf.metricBundles as metricBundles\n",
    "import copy"
   ]
  },
  {
   "cell_type": "code",
   "execution_count": 2,
   "metadata": {
    "collapsed": true
   },
   "outputs": [],
   "source": [
    "runNames = ['enigma_1189', 'minion_1016']\n",
    "outDir = 'astrometry_test'\n",
    "resultsDb = db.ResultsDb(outDir=outDir)\n",
    "filters = ['u', 'g', 'r', 'i', 'z', 'y']"
   ]
  },
  {
   "cell_type": "code",
   "execution_count": 3,
   "metadata": {
    "collapsed": false
   },
   "outputs": [
    {
     "name": "stdout",
     "output_type": "stream",
     "text": [
      "Querying database with constraint propID = 364 and filter=\"z\"\n",
      "Found 417684 visits\n",
      "Running:  ['opsim_Median_airmass_propID_364_and_z_UNIS', 'opsim_Median_finSeeing_propID_364_and_z_UNIS', 'opsim_Median_fiveSigmaDepth_propID_364_and_z_UNIS', 'opsim_Median_filtSkyBrightness_propID_364_and_z_UNIS']\n",
      "Completed metric generation.\n",
      "Running reduce methods.\n",
      "Running summary statistics.\n",
      "Completed.\n",
      "Querying database with constraint propID = 364 and filter=\"g\"\n",
      "Found 203973 visits\n",
      "Running:  ['opsim_Median_filtSkyBrightness_propID_364_and_g_UNIS', 'opsim_Median_fiveSigmaDepth_propID_364_and_g_UNIS', 'opsim_Median_finSeeing_propID_364_and_g_UNIS', 'opsim_Median_airmass_propID_364_and_g_UNIS']\n",
      "Completed metric generation.\n",
      "Running reduce methods.\n",
      "Running summary statistics.\n",
      "Completed.\n",
      "Querying database with constraint propID = 364 and filter=\"i\"\n",
      "Found 464616 visits\n",
      "Running:  ['opsim_Median_filtSkyBrightness_propID_364_and_i_UNIS', 'opsim_Median_airmass_propID_364_and_i_UNIS', 'opsim_Median_fiveSigmaDepth_propID_364_and_i_UNIS', 'opsim_Median_finSeeing_propID_364_and_i_UNIS']\n",
      "Completed metric generation.\n",
      "Running reduce methods.\n",
      "Running summary statistics.\n",
      "Completed.\n",
      "Querying database with constraint propID = 364 and filter=\"u\"\n",
      "Found 145258 visits\n",
      "Running:  ['opsim_Median_filtSkyBrightness_propID_364_and_u_UNIS', 'opsim_Median_airmass_propID_364_and_u_UNIS', 'opsim_Median_fiveSigmaDepth_propID_364_and_u_UNIS', 'opsim_Median_finSeeing_propID_364_and_u_UNIS']\n",
      "Completed metric generation.\n",
      "Running reduce methods.\n",
      "Running summary statistics.\n",
      "Completed.\n",
      "Querying database with constraint propID = 364 and filter=\"y\"\n",
      "Found 414502 visits\n",
      "Running:  ['opsim_Median_filtSkyBrightness_propID_364_and_y_UNIS', 'opsim_Median_airmass_propID_364_and_y_UNIS', 'opsim_Median_fiveSigmaDepth_propID_364_and_y_UNIS', 'opsim_Median_finSeeing_propID_364_and_y_UNIS']\n",
      "Completed metric generation.\n",
      "Running reduce methods.\n",
      "Running summary statistics.\n",
      "Completed.\n",
      "Querying database with constraint propID = 364 and filter=\"r\"\n",
      "Found 463866 visits\n",
      "Running:  ['opsim_Median_airmass_propID_364_and_r_UNIS', 'opsim_Median_finSeeing_propID_364_and_r_UNIS', 'opsim_Median_fiveSigmaDepth_propID_364_and_r_UNIS', 'opsim_Median_filtSkyBrightness_propID_364_and_r_UNIS']\n",
      "Completed metric generation.\n",
      "Running reduce methods.\n",
      "Running summary statistics.\n",
      "Completed.\n",
      "--------\n",
      "enigma_1189\n",
      "propID = 364 and filter=\"u\" Median filtSkyBrightness [22.0430425]\n",
      "propID = 364 and filter=\"u\" Median fiveSigmaDepth [23.805776]\n",
      "propID = 364 and filter=\"u\" Median airmass [1.2538434999999999]\n",
      "propID = 364 and filter=\"u\" Median finSeeing [0.8484845000000001]\n",
      "propID = 364 and filter=\"g\" Median filtSkyBrightness [21.783064]\n",
      "propID = 364 and filter=\"g\" Median fiveSigmaDepth [24.746807]\n",
      "propID = 364 and filter=\"g\" Median airmass [1.221981]\n",
      "propID = 364 and filter=\"g\" Median finSeeing [0.798154]\n",
      "propID = 364 and filter=\"r\" Median filtSkyBrightness [21.077761]\n",
      "propID = 364 and filter=\"r\" Median fiveSigmaDepth [24.4625375]\n",
      "propID = 364 and filter=\"r\" Median airmass [1.200469]\n",
      "propID = 364 and filter=\"r\" Median finSeeing [0.7534865]\n",
      "propID = 364 and filter=\"i\" Median filtSkyBrightness [19.876179999999998]\n",
      "propID = 364 and filter=\"i\" Median fiveSigmaDepth [23.723367]\n",
      "propID = 364 and filter=\"i\" Median airmass [1.201206]\n",
      "propID = 364 and filter=\"i\" Median finSeeing [0.7395594999999999]\n",
      "propID = 364 and filter=\"z\" Median filtSkyBrightness [17.5251425]\n",
      "propID = 364 and filter=\"z\" Median fiveSigmaDepth [22.390005000000002]\n",
      "propID = 364 and filter=\"z\" Median airmass [1.20932]\n",
      "propID = 364 and filter=\"z\" Median finSeeing [0.729063]\n",
      "propID = 364 and filter=\"y\" Median filtSkyBrightness [17.3]\n",
      "propID = 364 and filter=\"y\" Median fiveSigmaDepth [21.506966499999997]\n",
      "propID = 364 and filter=\"y\" Median airmass [1.263623]\n",
      "propID = 364 and filter=\"y\" Median finSeeing [0.7249985]\n",
      "--------\n"
     ]
    },
    {
     "ename": "AttributeError",
     "evalue": "'list' object has no attribute 'copy'",
     "output_type": "error",
     "traceback": [
      "\u001b[0;31m---------------------------------------------------------------------------\u001b[0m",
      "\u001b[0;31mAttributeError\u001b[0m                            Traceback (most recent call last)",
      "\u001b[0;32m<ipython-input-3-09261338732c>\u001b[0m in \u001b[0;36m<module>\u001b[0;34m()\u001b[0m\n\u001b[1;32m     22\u001b[0m         \u001b[0;32mprint\u001b[0m \u001b[0mbundle\u001b[0m\u001b[0;34m.\u001b[0m\u001b[0mconstraint\u001b[0m\u001b[0;34m,\u001b[0m \u001b[0mbundle\u001b[0m\u001b[0;34m.\u001b[0m\u001b[0mmetric\u001b[0m\u001b[0;34m.\u001b[0m\u001b[0mname\u001b[0m\u001b[0;34m,\u001b[0m \u001b[0mbundle\u001b[0m\u001b[0;34m.\u001b[0m\u001b[0mmetricValues\u001b[0m\u001b[0;34m\u001b[0m\u001b[0m\n\u001b[1;32m     23\u001b[0m     \u001b[0;32mprint\u001b[0m \u001b[0;34m'--------'\u001b[0m\u001b[0;34m\u001b[0m\u001b[0m\n\u001b[0;32m---> 24\u001b[0;31m \u001b[0menigma_BL\u001b[0m \u001b[0;34m=\u001b[0m \u001b[0mbundleList\u001b[0m\u001b[0;34m.\u001b[0m\u001b[0mcopy\u001b[0m\u001b[0;34m(\u001b[0m\u001b[0;34m)\u001b[0m\u001b[0;34m\u001b[0m\u001b[0m\n\u001b[0m",
      "\u001b[0;31mAttributeError\u001b[0m: 'list' object has no attribute 'copy'"
     ]
    }
   ],
   "source": [
    "for runName in ['enigma_1189']:\n",
    "    opsdb = db.OpsimDatabase(runName+'_sqlite.db')\n",
    "    propids, propTags = opsdb.fetchPropInfo()\n",
    "    WFDpropid = propTags['WFD'][0]\n",
    "    slicer = slicers.UniSlicer()\n",
    "    bundleList = []\n",
    "    for filterName in filters:\n",
    "        sql = 'propID = %i and filter=\"%s\"' % (WFDpropid, filterName)\n",
    "        bundleList.append(metricBundles.MetricBundle(metrics.MedianMetric(col='filtSkyBrightness'), slicer, sql))\n",
    "        bundleList.append(metricBundles.MetricBundle(metrics.MedianMetric(col='fiveSigmaDepth'), slicer, sql))\n",
    "        bundleList.append(metricBundles.MetricBundle(metrics.MedianMetric(col='airmass'), slicer, sql))\n",
    "        if runName == 'enigma_1189':\n",
    "            bundleList.append(metricBundles.MetricBundle(metrics.MedianMetric(col='finSeeing'), slicer, sql))\n",
    "        else:\n",
    "            bundleList.append(metricBundles.MetricBundle(metrics.MedianMetric(col='FWHMeff'), slicer, sql))\n",
    "    bundleDict = metricBundles.makeBundlesDictFromList(bundleList)\n",
    "    bgroup = metricBundles.MetricBundleGroup(bundleDict, opsdb, outDir=outDir, resultsDb=resultsDb)\n",
    "    bgroup.runAll()\n",
    "    print '--------'\n",
    "    print runName\n",
    "    for bundle in bundleList:\n",
    "        print bundle.constraint, bundle.metric.name, bundle.metricValues\n",
    "    print '--------'\n",
    "enigma_BL = copy.deepcopy(bundleList)"
   ]
  },
  {
   "cell_type": "code",
   "execution_count": null,
   "metadata": {
    "collapsed": false
   },
   "outputs": [],
   "source": [
    "for runName in ['minion_1016']:\n",
    "    opsdb = db.OpsimDatabase(runName+'_sqlite.db')\n",
    "    propids, propTags = opsdb.fetchPropInfo()\n",
    "    WFDpropid = propTags['WFD'][0]\n",
    "    slicer = slicers.UniSlicer()\n",
    "    bundleList = []\n",
    "    for filterName in filters:\n",
    "        sql = 'propID = %i and filter=\"%s\"' % (WFDpropid, filterName)\n",
    "        bundleList.append(metricBundles.MetricBundle(metrics.MedianMetric(col='filtSkyBrightness'), slicer, sql))\n",
    "        bundleList.append(metricBundles.MetricBundle(metrics.MedianMetric(col='fiveSigmaDepth'), slicer, sql))\n",
    "        bundleList.append(metricBundles.MetricBundle(metrics.MedianMetric(col='airmass'), slicer, sql))\n",
    "        if runName == 'enigma_1189':\n",
    "            bundleList.append(metricBundles.MetricBundle(metrics.MedianMetric(col='finSeeing'), slicer, sql))\n",
    "        else:\n",
    "            bundleList.append(metricBundles.MetricBundle(metrics.MedianMetric(col='FWHMeff'), slicer, sql))\n",
    "    bundleDict = metricBundles.makeBundlesDictFromList(bundleList)\n",
    "    bgroup = metricBundles.MetricBundleGroup(bundleDict, opsdb, outDir=outDir, resultsDb=resultsDb)\n",
    "    bgroup.runAll()\n",
    "    print '--------'\n",
    "    print runName\n",
    "    for bundle in bundleList:\n",
    "        print bundle.constraint, bundle.metric.name, bundle.metricValues\n",
    "    print '--------'"
   ]
  },
  {
   "cell_type": "code",
   "execution_count": null,
   "metadata": {
    "collapsed": false
   },
   "outputs": [],
   "source": []
  },
  {
   "cell_type": "code",
   "execution_count": null,
   "metadata": {
    "collapsed": true
   },
   "outputs": [],
   "source": []
  }
 ],
 "metadata": {
  "kernelspec": {
   "display_name": "Python 2",
   "language": "python",
   "name": "python2"
  },
  "language_info": {
   "codemirror_mode": {
    "name": "ipython",
    "version": 2
   },
   "file_extension": ".py",
   "mimetype": "text/x-python",
   "name": "python",
   "nbconvert_exporter": "python",
   "pygments_lexer": "ipython2",
   "version": "2.7.11"
  }
 },
 "nbformat": 4,
 "nbformat_minor": 0
}
